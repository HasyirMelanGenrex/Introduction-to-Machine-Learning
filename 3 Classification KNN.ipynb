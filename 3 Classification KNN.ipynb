{
  "cells": [
    {
      "cell_type": "markdown",
      "metadata": {
        "id": "sQAGcnK3MOS7"
      },
      "source": [
        "### 1) Import Data\n",
        "\n",
        "Unduh dataset yang akan digunakan pada praktikum kali ini. Anda dapat menggunakan aplikasi wget untuk mendowload dataset dan menyimpannya dalam Google Colab. Jalankan cell di bawah ini untuk mengunduh dataset"
      ]
    },
    {
      "cell_type": "code",
      "execution_count": null,
      "metadata": {
        "colab": {
          "base_uri": "https://localhost:8080/"
        },
        "id": "FpjqVlzBMNLd",
        "outputId": "06b486f1-c3f2-4678-d2ca-f6160344aafb"
      },
      "outputs": [
        {
          "name": "stdout",
          "output_type": "stream",
          "text": [
            "--2021-03-20 11:55:45--  https://dataset-ppm.s3.amazonaws.com/iris.csv\n",
            "Resolving dataset-ppm.s3.amazonaws.com (dataset-ppm.s3.amazonaws.com)... 52.217.128.201\n",
            "Connecting to dataset-ppm.s3.amazonaws.com (dataset-ppm.s3.amazonaws.com)|52.217.128.201|:443... connected.\n",
            "HTTP request sent, awaiting response... 200 OK\n",
            "Length: 4609 (4.5K) [text/csv]\n",
            "Saving to: ‘iris.csv.1’\n",
            "\n",
            "iris.csv.1          100%[===================>]   4.50K  --.-KB/s    in 0s      \n",
            "\n",
            "2021-03-20 11:55:45 (123 MB/s) - ‘iris.csv.1’ saved [4609/4609]\n",
            "\n"
          ]
        }
      ],
      "source": [
        "!wget https://dataset-ppm.s3.amazonaws.com/iris.csv"
      ]
    },
    {
      "cell_type": "markdown",
      "metadata": {
        "id": "SJy4t3lIOgGp"
      },
      "source": [
        "Setelah dataset berhasil diunduh, langkah berikutnya adalah membaca dataset dengan memanfaatkan fungsi **readcsv** dari library pandas. Lakukan pembacaan berkas csv ke dalam dataframe dengan nama **data** menggunakan fungsi **readcsv**. Jangan lupa untuk melakukan import library pandas terlebih dahulu\n"
      ]
    },
    {
      "cell_type": "code",
      "execution_count": null,
      "metadata": {
        "id": "mdhbxk_2OzbB"
      },
      "outputs": [],
      "source": [
        "import pandas as pd\n",
        "import numpy as np\n",
        "data = pd.read_csv('iris.csv')"
      ]
    },
    {
      "cell_type": "markdown",
      "metadata": {
        "id": "w6NfrIDTOK38"
      },
      "source": [
        "\n",
        "\n",
        "Cek isi dataset Anda dengan menggunakan perintah **head()**"
      ]
    },
    {
      "cell_type": "code",
      "execution_count": null,
      "metadata": {
        "colab": {
          "base_uri": "https://localhost:8080/",
          "height": 197
        },
        "id": "Uaiaj796OFH3",
        "outputId": "ac795deb-9dda-44cb-d029-ab520eb0fdfa"
      },
      "outputs": [
        {
          "data": {
            "text/html": [
              "<div>\n",
              "<style scoped>\n",
              "    .dataframe tbody tr th:only-of-type {\n",
              "        vertical-align: middle;\n",
              "    }\n",
              "\n",
              "    .dataframe tbody tr th {\n",
              "        vertical-align: top;\n",
              "    }\n",
              "\n",
              "    .dataframe thead th {\n",
              "        text-align: right;\n",
              "    }\n",
              "</style>\n",
              "<table border=\"1\" class=\"dataframe\">\n",
              "  <thead>\n",
              "    <tr style=\"text-align: right;\">\n",
              "      <th></th>\n",
              "      <th>sepal_length</th>\n",
              "      <th>sepal_width</th>\n",
              "      <th>petal_length</th>\n",
              "      <th>petal_width</th>\n",
              "      <th>species</th>\n",
              "    </tr>\n",
              "  </thead>\n",
              "  <tbody>\n",
              "    <tr>\n",
              "      <th>0</th>\n",
              "      <td>5.1</td>\n",
              "      <td>3.5</td>\n",
              "      <td>1.4</td>\n",
              "      <td>0.2</td>\n",
              "      <td>Iris-setosa</td>\n",
              "    </tr>\n",
              "    <tr>\n",
              "      <th>1</th>\n",
              "      <td>4.9</td>\n",
              "      <td>3.0</td>\n",
              "      <td>1.4</td>\n",
              "      <td>0.2</td>\n",
              "      <td>Iris-setosa</td>\n",
              "    </tr>\n",
              "    <tr>\n",
              "      <th>2</th>\n",
              "      <td>4.7</td>\n",
              "      <td>3.2</td>\n",
              "      <td>1.3</td>\n",
              "      <td>0.2</td>\n",
              "      <td>Iris-setosa</td>\n",
              "    </tr>\n",
              "    <tr>\n",
              "      <th>3</th>\n",
              "      <td>4.6</td>\n",
              "      <td>3.1</td>\n",
              "      <td>1.5</td>\n",
              "      <td>0.2</td>\n",
              "      <td>Iris-setosa</td>\n",
              "    </tr>\n",
              "    <tr>\n",
              "      <th>4</th>\n",
              "      <td>5.0</td>\n",
              "      <td>3.6</td>\n",
              "      <td>1.4</td>\n",
              "      <td>0.2</td>\n",
              "      <td>Iris-setosa</td>\n",
              "    </tr>\n",
              "  </tbody>\n",
              "</table>\n",
              "</div>"
            ],
            "text/plain": [
              "   sepal_length  sepal_width  petal_length  petal_width      species\n",
              "0           5.1          3.5           1.4          0.2  Iris-setosa\n",
              "1           4.9          3.0           1.4          0.2  Iris-setosa\n",
              "2           4.7          3.2           1.3          0.2  Iris-setosa\n",
              "3           4.6          3.1           1.5          0.2  Iris-setosa\n",
              "4           5.0          3.6           1.4          0.2  Iris-setosa"
            ]
          },
          "execution_count": 3,
          "metadata": {
            "tags": []
          },
          "output_type": "execute_result"
        }
      ],
      "source": [
        "data.head()"
      ]
    },
    {
      "cell_type": "markdown",
      "metadata": {
        "id": "lfi1uHIxPdDe"
      },
      "source": [
        "## 2) Membagi data menjadi data latih dan data uji\n",
        "\n",
        "Metode pembelajaran mesin memerlukan dua jenis data :\n",
        "\n",
        "\n",
        "1.   Data latih : Digunakan untuk proses training metode klasifikasi\n",
        "2.   Data uji : Digunakan untuk proses evaluasi metode klasifikasi\n",
        "\n",
        "Data uji dan data latih perlu dibuat terpisah (mutualy exclusive) agar hasil evaluasi lebih akurat.\n",
        "\n",
        "Data uji dan data latih dapat dibuat dengan cara membagi dataset dengan rasio tertentu, misalnya 80% data latih dan 20% data uji.\n",
        "\n",
        "Library Scikit-learn memiliki fungsi [train_test_split](https://scikit-learn.org/stable/modules/generated/sklearn.model_selection.train_test_split.html) pada modul **model_selection** untuk membagi dataset menjadi data latih dan data uji. Bagilah dataset anda menjadi dua, yaitu **data_latih** dan **data_uji**.\n"
      ]
    },
    {
      "cell_type": "code",
      "execution_count": null,
      "metadata": {
        "id": "jJjfXgfmPTlU"
      },
      "outputs": [],
      "source": [
        "from sklearn.model_selection import train_test_split\n",
        "data_latih,data_uji = train_test_split(data,test_size = 0.2)"
      ]
    },
    {
      "cell_type": "markdown",
      "metadata": {
        "id": "tBhcsUDYfw2q"
      },
      "source": [
        "Tampilkan banyaknya data pada **data_latih** dan **data_uji**. Seharusnya **data_latih** terdiri dari 120 data, dan **data_uji** terdiri dari 30 data"
      ]
    },
    {
      "cell_type": "code",
      "execution_count": null,
      "metadata": {
        "colab": {
          "base_uri": "https://localhost:8080/"
        },
        "id": "6OtySD4efmmQ",
        "outputId": "98f6aa06-58d8-4f44-9f6d-56b1be7d718f"
      },
      "outputs": [
        {
          "name": "stdout",
          "output_type": "stream",
          "text": [
            "30\n",
            "120\n"
          ]
        }
      ],
      "source": [
        "print(data_uji.shape[0])\n",
        "print(data_latih.shape[0])"
      ]
    },
    {
      "cell_type": "markdown",
      "metadata": {
        "id": "DeU-FCyTkVKC"
      },
      "source": [
        "Pisahkan label/kategori dari data latih dan data uji menjadi variabel tersendiri. Beri nama variabelnya **label_latih** dan **label_uji**"
      ]
    },
    {
      "cell_type": "code",
      "execution_count": null,
      "metadata": {
        "id": "e4vC_M0mkkl3"
      },
      "outputs": [],
      "source": [
        "label_latih = data_latih.pop('species')\n",
        "label_uji = data_uji.pop('species')"
      ]
    },
    {
      "cell_type": "code",
      "execution_count": null,
      "metadata": {
        "colab": {
          "base_uri": "https://localhost:8080/"
        },
        "id": "ogQLMrUjlU2_",
        "outputId": "340bd15a-984f-47b3-db04-540754b893f0"
      },
      "outputs": [
        {
          "name": "stdout",
          "output_type": "stream",
          "text": [
            "Data latih\n",
            "\n",
            "     sepal_length  sepal_width  petal_length  petal_width\n",
            "62            6.0          2.2           4.0          1.0\n",
            "77            6.7          3.0           5.0          1.7\n",
            "41            4.5          2.3           1.3          0.3\n",
            "121           5.6          2.8           4.9          2.0\n",
            "15            5.7          4.4           1.5          0.4\n",
            "\n",
            "Data uji\n",
            "\n",
            "     sepal_length  sepal_width  petal_length  petal_width\n",
            "93            5.0          2.3           3.3          1.0\n",
            "120           6.9          3.2           5.7          2.3\n",
            "59            5.2          2.7           3.9          1.4\n",
            "67            5.8          2.7           4.1          1.0\n",
            "137           6.4          3.1           5.5          1.8\n"
          ]
        }
      ],
      "source": [
        "#Cek data latih dan data uji setelah melalui proses operasi pop()\n",
        "print(\"Data latih\\n\")\n",
        "print(data_latih.head())\n",
        "print(\"\")\n",
        "print(\"Data uji\\n\")\n",
        "print(data_uji.head())\n"
      ]
    },
    {
      "cell_type": "markdown",
      "metadata": {
        "id": "xm_dJNeMgl9u"
      },
      "source": [
        "## 3) Menghitung jarak euclidean\n",
        "\n",
        "Tahapan awal dari algoritma KNN adalah perhitungan jarak. Salah satu metode perhitungan jarak yang bisa digunakan adalah jarak Euclidean. Buatlah fungsi bernama **jarakEu** yang berfungsi menghitung jarak euclidean dari dua buah vektor (tanpa kelas)"
      ]
    },
    {
      "cell_type": "code",
      "execution_count": null,
      "metadata": {
        "id": "QNEYOTLsfqld"
      },
      "outputs": [],
      "source": [
        "def jarakEu(data1,data2):\n",
        "  jarak = np.square(data1-data2)\n",
        "  jarak = np.sum(jarak)\n",
        "  return np.sqrt(jarak)"
      ]
    },
    {
      "cell_type": "markdown",
      "metadata": {
        "id": "bfznAo4-tUM5"
      },
      "source": [
        "Uji fungsi **jarakEu** untuk menghitung jarak antara data latih pertama dengan data uji pertama."
      ]
    },
    {
      "cell_type": "code",
      "execution_count": null,
      "metadata": {
        "colab": {
          "base_uri": "https://localhost:8080/"
        },
        "id": "kEK4o1-LicZ5",
        "outputId": "62089f7d-fc02-4e15-a088-21dfe2a0de75"
      },
      "outputs": [
        {
          "name": "stdout",
          "output_type": "stream",
          "text": [
            "1.2247448713915892\n"
          ]
        }
      ],
      "source": [
        "jarak = jarakEu(data_latih.iloc[0],data_uji.iloc[0])\n",
        "print(jarak)"
      ]
    },
    {
      "cell_type": "markdown",
      "metadata": {
        "id": "46FZOwFIlkM_"
      },
      "source": [
        "## 4) Algoritma KNN\n",
        "\n",
        "Implementasikan algoritma KNN dengan tahapan-tahapan berikut :\n",
        "1. Hitung jarak antara data uji dengan setiap data latih.\n",
        "2. Cari *k* data latih dengan jarak terkecil.\n",
        "3. Tentukan kelas dari *k* data latih tersebut.\n",
        "4. Kelas data uji ditentukan dari mayoritas kelas *k* data latih.\n",
        "\n",
        "Buatlah fungsi dengan nama **knn** yang menerima input berupa *k*, sekumpulan data latih dan labelnya, serta sebuah data uji"
      ]
    },
    {
      "cell_type": "code",
      "execution_count": null,
      "metadata": {
        "id": "qFB6pLbeikcG"
      },
      "outputs": [],
      "source": [
        "from collections import Counter\n",
        "\n",
        "def knn(k,datalatih,labellatih,datauji):\n",
        "  jarak = np.array([jarakEu(datalatih.iloc[x],datauji) for x in range (datalatih.shape[0])]) \n",
        "  indeks_k_minimum = jarak.argsort()[:k]\n",
        "  k_kelas = labellatih.iloc[indeks_k_minimum].to_numpy()\n",
        "  counter = Counter(k_kelas)\n",
        "  kelas_uji = counter.most_common(1)[0][0]\n",
        "  return kelas_uji"
      ]
    },
    {
      "cell_type": "markdown",
      "metadata": {
        "id": "m7PEASGt0I04"
      },
      "source": [
        "Lakukan pengujian fungsi **knn** untuk menentukan kelas dari data uji pertama"
      ]
    },
    {
      "cell_type": "code",
      "execution_count": null,
      "metadata": {
        "colab": {
          "base_uri": "https://localhost:8080/"
        },
        "id": "2DfvWo7Nr2Iw",
        "outputId": "be5c57fb-fbc6-48c2-e82d-2921c1066763"
      },
      "outputs": [
        {
          "name": "stdout",
          "output_type": "stream",
          "text": [
            "Iris-versicolor\n"
          ]
        }
      ],
      "source": [
        "result = knn(3,data_latih,label_latih,data_uji.iloc[0])\n",
        "print(result)"
      ]
    },
    {
      "cell_type": "markdown",
      "metadata": {
        "id": "c7qKiXO3cINi"
      },
      "source": [
        "## 5) KNN pada Scikit-learn\n",
        "\n",
        "Library scikit-learn memiliki algoritma KNN yang siap untuk digunakan. Sebagai pengenalan, Anda akan melakukan klasifikasi data yang sama menggunakan KNN yang tersedia pada library scikit-learn"
      ]
    },
    {
      "cell_type": "code",
      "execution_count": null,
      "metadata": {
        "colab": {
          "base_uri": "https://localhost:8080/"
        },
        "id": "Rmt06ECzcdbf",
        "outputId": "6735965f-465f-4f46-98de-fc9ca8938129"
      },
      "outputs": [
        {
          "name": "stdout",
          "output_type": "stream",
          "text": [
            "['Iris-versicolor']\n"
          ]
        }
      ],
      "source": [
        "from sklearn.neighbors import KNeighborsClassifier\n",
        "KNN = KNeighborsClassifier(n_neighbors = 3)\n",
        "KNN.fit(data_latih, label_latih)\n",
        "kelas = KNN.predict([data_uji.iloc[0]])\n",
        "print(kelas)"
      ]
    },
    {
      "cell_type": "markdown",
      "metadata": {
        "id": "ZiDmUxVBuo42"
      },
      "source": [
        "## TUGAS\n",
        "1. Buatlah fungsi bernama **jarakCity** yang berfungsi menghitung jarak City Block antara dua vektor.\n",
        "2. Buatlah sebuah fungsi bernama **knn_multi** yang dapat menentukan kelas dari **semua** data uji (Fungsi **knn** yang sudah Anda buat hanya dapat menentukan kelas dari sebuah data uji. Anda dapat memanfaatkan fungsi **knn** yang telah ada\n",
        "3. Buatlah fungsi bernama **cek_hasil** yang berfungsi membandingkan hasil klasifikasi dengan label sebenarnya. Fungsi ini menerima input 2 buah list, yaitu list label hasil klasifikasi dan list label data uji yang sebenarnya. Output dari fungsi ini adalah integer, yang menunjukkan berapa banyak label hasil klasifikasi yang sama dengan label data uji sebenarnya.\n",
        "4. Jalankan fungsi **knn_multi** dengan nilai k=3, k=7,k=9 dan k=13. Amati hasil dari fungsi **cek_hasil** dengan nilai k tersebut. Apa kesimpulan Anda?"
      ]
    },
    {
      "cell_type": "code",
      "execution_count": null,
      "metadata": {
        "id": "BgNZPfuvrV0K"
      },
      "outputs": [],
      "source": [
        "#jawaban soal 1\n",
        "#Manhattan / City Block Distance\n",
        "def jarakCity(vektor1, vektor2):\n",
        "  distance = np.abs(vektor1 - vektor2)\n",
        "  distance = np.sum(distance)\n",
        "  return distance"
      ]
    },
    {
      "cell_type": "code",
      "execution_count": null,
      "metadata": {
        "colab": {
          "base_uri": "https://localhost:8080/"
        },
        "id": "oB2h6jVz9WQH",
        "outputId": "e6ed435c-8b68-46ab-fb78-ba720cffa441"
      },
      "outputs": [
        {
          "name": "stdout",
          "output_type": "stream",
          "text": [
            "1.7999999999999998\n"
          ]
        }
      ],
      "source": [
        "JarakManhattan = jarakCity(data_latih.iloc[0],data_uji.iloc[0])\n",
        "print(JarakManhattan)"
      ]
    },
    {
      "cell_type": "code",
      "execution_count": null,
      "metadata": {
        "id": "B5OZWrTkJ7rg"
      },
      "outputs": [],
      "source": [
        "#jawaban soal 2\n",
        "def knn_multi(k,data_latih,label_latih,data_uji):\n",
        "  daftar_class = []\n",
        "  \n",
        "  for x in range(data_uji.shape[0]):\n",
        "    result_class = knn(k,data_latih,label_latih,data_uji.iloc[x])\n",
        "    daftar_class.append(result_class)\n",
        "\n",
        "  return daftar_class\n"
      ]
    },
    {
      "cell_type": "code",
      "execution_count": null,
      "metadata": {
        "colab": {
          "base_uri": "https://localhost:8080/"
        },
        "id": "sc5zDKmX-PmG",
        "outputId": "0794251b-39c2-47a6-b97d-f742afa8ba2c"
      },
      "outputs": [
        {
          "data": {
            "text/plain": [
              "['Iris-versicolor',\n",
              " 'Iris-virginica',\n",
              " 'Iris-versicolor',\n",
              " 'Iris-versicolor',\n",
              " 'Iris-virginica',\n",
              " 'Iris-virginica',\n",
              " 'Iris-virginica',\n",
              " 'Iris-versicolor',\n",
              " 'Iris-setosa',\n",
              " 'Iris-setosa',\n",
              " 'Iris-versicolor',\n",
              " 'Iris-versicolor',\n",
              " 'Iris-setosa',\n",
              " 'Iris-setosa',\n",
              " 'Iris-versicolor',\n",
              " 'Iris-setosa',\n",
              " 'Iris-versicolor',\n",
              " 'Iris-virginica',\n",
              " 'Iris-versicolor',\n",
              " 'Iris-setosa',\n",
              " 'Iris-versicolor',\n",
              " 'Iris-virginica',\n",
              " 'Iris-virginica',\n",
              " 'Iris-virginica',\n",
              " 'Iris-setosa',\n",
              " 'Iris-versicolor',\n",
              " 'Iris-versicolor',\n",
              " 'Iris-versicolor',\n",
              " 'Iris-versicolor',\n",
              " 'Iris-virginica']"
            ]
          },
          "execution_count": 16,
          "metadata": {
            "tags": []
          },
          "output_type": "execute_result"
        }
      ],
      "source": [
        "#Melihat hasil, contoh dengan k = 3\n",
        "result_KNNMulti = knn_multi(3,data_latih,label_latih,data_uji)\n",
        "result_KNNMulti"
      ]
    },
    {
      "cell_type": "code",
      "execution_count": null,
      "metadata": {
        "id": "fL6IOkA2HWnq"
      },
      "outputs": [],
      "source": [
        "#Mengecek data uji yang di dapatkan setelah di split\n",
        "data_uji"
      ]
    },
    {
      "cell_type": "code",
      "execution_count": null,
      "metadata": {
        "id": "VQeLRznAEhJ8"
      },
      "outputs": [],
      "source": [
        "#Untuk looping nya.\n",
        "#for x in range(data_uji.shape[0]):\n",
        "#  print(data_uji.iloc[x])"
      ]
    },
    {
      "cell_type": "code",
      "execution_count": null,
      "metadata": {
        "id": "XoH2D5AAKLLJ"
      },
      "outputs": [],
      "source": [
        "#jawaban soal 3\n",
        "def cek_hasil(result, label_uji):\n",
        "  Data_sama = 0\n",
        "  for x in range(0, len(label_uji)):\n",
        "    if(label_uji.iloc[x] == result[x]):\n",
        "      Data_sama += 1\n",
        "  \n",
        "  return Data_sama"
      ]
    },
    {
      "cell_type": "code",
      "execution_count": null,
      "metadata": {
        "colab": {
          "base_uri": "https://localhost:8080/"
        },
        "id": "F7nhCRISJqoD",
        "outputId": "fc914341-162b-4b23-f92c-c8b7cefc4c5c"
      },
      "outputs": [
        {
          "name": "stdout",
          "output_type": "stream",
          "text": [
            "Jumlah data yang sama : 28\n",
            "\n",
            "Data yang di compare sebanyak : 30\n"
          ]
        }
      ],
      "source": [
        "#cek hasil\n",
        "print(\"Jumlah data yang sama :\", cek_hasil(result_KNNMulti, label_uji))\n",
        "print(\"\")\n",
        "print(\"Data yang di compare sebanyak :\", label_uji.shape[0])"
      ]
    },
    {
      "cell_type": "code",
      "execution_count": null,
      "metadata": {
        "id": "eUFsXtEQKOeN"
      },
      "outputs": [],
      "source": [
        "#jawaban soal 4\n",
        "#Run fungsi knn_multi untuk k = 3, 7, 9 dan 13\n",
        "result_k3 = knn_multi(3,data_latih,label_latih,data_uji)\n",
        "result_k7 = knn_multi(7,data_latih,label_latih,data_uji)\n",
        "result_k9 = knn_multi(9,data_latih,label_latih,data_uji)\n",
        "result_k13 = knn_multi(13,data_latih,label_latih,data_uji)"
      ]
    },
    {
      "cell_type": "code",
      "execution_count": null,
      "metadata": {
        "id": "6X3_MtHveUw8"
      },
      "outputs": [],
      "source": [
        "def printCompare(result, label_uji):\n",
        "  print(\"Jumlah data yang sama dengan Data uji : \", cek_hasil(result, label_uji))\n",
        "  print(\"Jumlah data yang dibandingkan : \", label_uji.shape[0])"
      ]
    },
    {
      "cell_type": "code",
      "execution_count": null,
      "metadata": {
        "colab": {
          "base_uri": "https://localhost:8080/"
        },
        "id": "RwHRBTu7e6ST",
        "outputId": "04ea2543-2e12-4cd2-b5d0-c31c111474ff"
      },
      "outputs": [
        {
          "name": "stdout",
          "output_type": "stream",
          "text": [
            "K = 3\n",
            "Jumlah data yang sama dengan Data uji :  28\n",
            "Jumlah data yang dibandingkan :  30\n",
            "\n",
            "K = 7\n",
            "Jumlah data yang sama dengan Data uji :  27\n",
            "Jumlah data yang dibandingkan :  30\n",
            "\n",
            "K = 9\n",
            "Jumlah data yang sama dengan Data uji :  30\n",
            "Jumlah data yang dibandingkan :  30\n",
            "\n",
            "K = 13\n",
            "Jumlah data yang sama dengan Data uji :  29\n",
            "Jumlah data yang dibandingkan :  30\n"
          ]
        }
      ],
      "source": [
        "print(\"K = 3\")\n",
        "printCompare(result_k3, label_uji)\n",
        "print(\"\")\n",
        "print(\"K = 7\")\n",
        "printCompare(result_k7, label_uji)\n",
        "print(\"\")\n",
        "print(\"K = 9\")\n",
        "printCompare(result_k9, label_uji)\n",
        "print(\"\")\n",
        "print(\"K = 13\")\n",
        "printCompare(result_k13, label_uji)"
      ]
    },
    {
      "cell_type": "markdown",
      "metadata": {
        "id": "Ml45KVHX4H6o"
      },
      "source": [
        "Penjelasan jawaban soal nomor 4\n",
        "\n",
        "KNN / *K-nearest neighbors* merupakan algoritma yang digunakan untuk melakukan klasifikasi suatu data uji dengan data latih. K dalam KNN merupakan banyaknya tetangga terdekat / *nearest neighbors*.\n",
        "\n",
        "1. Berdasarkan percobaan - percobaan sebelumnya, Hasil akhir dari data yang kita buat dengan data uji yang asli relatif memiliki kemiripan yang tinggi.\n",
        "\n",
        "2. K pada KNN menentukan jumlah kelas yang akan di jadikan perbandingan untuk nantinya dilakukan majority voting, berdasarkan voting terbanyak maka itu merupakan class untuk data latih tersebut. \n",
        "\n",
        "3. Kelemahan yang ada pada Algoritma KNN ini adalah\n",
        "  1. Jika K terlalu kecil, maka akan sangat sensitif terhadap noise/outlier\n",
        "  2. Jika K terlalu besar, maka penentuan class nya dapat dipengaruhi oleh data dari class yang lainnya.\n",
        "  \n",
        "  Hal ini dapat dilihat pada k = 3 dan k = 13, dimana yang terkecil dan terbesar dalam contoh praktikum ini. Setelah dilakukan berulang kali percobaan maka K terkecil dan K terbesar hampir memiliki data yang sama. Namun semisal K terlalu kecil misal k = 1, maka data belum tentu akurat karena dapat dipengaruhi oleh noise data. Biasanya semakin besar nilai k maka semakin baik dalam penentuan klasifikasi datanya. Namun, besarnya K tergantung dengan jumlah dataset yang disediakan. Pada kasus ini kita disediakan 30 dataset maka tidak layaknya kita men-set K = 30.\n",
        "\n",
        "  Kesimpulan dari K ini, banyaknya K tidak dapat ditentukan dengan pasti karena terlalu bergantung dengan beberapa kondisi maka dari itu perlu dilakukan beberapa percobaan dengan K yang berbeda - beda. Kemudian untuk nilai K harus bernilai ganjil, Karena jika bernilai genap maka saat melakukan majority voting bisa terjadi adanya jumlah vote yang sama yang kemudian tidak dapat menghasilkan majority.\n",
        "\n",
        "4. KNN juga memiliki tingkat kompleksitas yang tinggi karena dalam melakukan perhitungan jarak dilakukan terhadap setiap data latih. Maka jika semakin banyak jumlah data latih maka semakin tinggi komputasinya.\n",
        "\n",
        "5. Pada praktikum ini, Kita disediakan 150 data. Namun dengan menggunakan data split, kita mengambil hanya 20% nya saja yaitu 30 data secara random, maka dari itu saat melakukan factory reset pada runtime dan me - run ulang akan menghasilkan hasil yang berbeda lagi. Hal ini juga menujukan bahwa jika kita memilih nilai K yang besar dan karena datanya random bisa jadi bahwa sebuah data seharusnya masuk kedalam class A namun justru masuk kedalam class B. Karena jumlah data pada class B lebih banyak dari A namun pada class B juga memiliki kemiripan pada A, jadinya data masuk ke class yang salah. \n"
      ]
    }
  ],
  "metadata": {
    "colab": {
      "collapsed_sections": [
        "sQAGcnK3MOS7",
        "xm_dJNeMgl9u",
        "46FZOwFIlkM_",
        "c7qKiXO3cINi"
      ],
      "name": "Praktikum 3 - Hasyir Daffa Ibrahim - 195150207111039",
      "provenance": []
    },
    "kernelspec": {
      "display_name": "Python 3",
      "name": "python3"
    }
  },
  "nbformat": 4,
  "nbformat_minor": 0
}
