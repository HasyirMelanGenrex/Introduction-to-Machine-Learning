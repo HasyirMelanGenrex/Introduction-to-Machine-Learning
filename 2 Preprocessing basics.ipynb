{
  "cells": [
    {
      "cell_type": "markdown",
      "metadata": {
        "id": "Ay3Q_EtXsn77"
      },
      "source": [
        "\n",
        "\n",
        "### 1) Import Data"
      ]
    },
    {
      "cell_type": "markdown",
      "metadata": {
        "id": "l_iBG4pVjIZb"
      },
      "source": [
        "Unduh dataset yang akan digunakan pada praktikum kali ini. Anda dapat menggunakan aplikasi **wget** untuk mendowload dataset dan menyimpannya dalam Google Colab. Jalankan cell di bawah ini untuk mengunduh dataset"
      ]
    },
    {
      "cell_type": "code",
      "execution_count": 2,
      "metadata": {
        "colab": {
          "base_uri": "https://localhost:8080/"
        },
        "id": "2zlUIUTidO13",
        "outputId": "c64a1596-fe1a-4f93-e1c6-c1d2915a67b6"
      },
      "outputs": [
        {
          "name": "stdout",
          "output_type": "stream",
          "text": [
            "--2021-03-13 06:13:17--  https://dataset-ppm.s3.amazonaws.com/iris_missing.csv\n",
            "Resolving dataset-ppm.s3.amazonaws.com (dataset-ppm.s3.amazonaws.com)... 52.216.27.28\n",
            "Connecting to dataset-ppm.s3.amazonaws.com (dataset-ppm.s3.amazonaws.com)|52.216.27.28|:443... connected.\n",
            "HTTP request sent, awaiting response... 200 OK\n",
            "Length: 3843 (3.8K) [text/csv]\n",
            "Saving to: ‘iris_missing.csv’\n",
            "\n",
            "\riris_missing.csv      0%[                    ]       0  --.-KB/s               \riris_missing.csv    100%[===================>]   3.75K  --.-KB/s    in 0s      \n",
            "\n",
            "2021-03-13 06:13:17 (254 MB/s) - ‘iris_missing.csv’ saved [3843/3843]\n",
            "\n"
          ]
        }
      ],
      "source": [
        "! wget https://dataset-ppm.s3.amazonaws.com/iris_missing.csv"
      ]
    },
    {
      "cell_type": "markdown",
      "metadata": {
        "id": "qS98ITZYj_EQ"
      },
      "source": [
        "Setelah dataset berhasil diunduh, langkah berikutnya adalah membaca dataset dengan memanfaatkan fungsi [readcsv](https://pandas.pydata.org/pandas-docs/stable/reference/api/pandas.read_csv.html) dari library pandas. Lakukan pembacaan berkas csv menggunakan fungsi **readcsv**. Jangan lupa untuk melakukan import library pandas terlebih dahulu"
      ]
    },
    {
      "cell_type": "code",
      "execution_count": 17,
      "metadata": {
        "id": "5TtrzOrCe0do"
      },
      "outputs": [],
      "source": [
        "import pandas as pd\n",
        "import numpy as np\n",
        "data = pd.read_csv('iris_missing.csv')"
      ]
    },
    {
      "cell_type": "markdown",
      "metadata": {
        "id": "Fz2E1jyaseWv"
      },
      "source": [
        "Tampilkan beberapa baris dari dataset untuk mendapatkan informasi singkat mengenai isi data. Gunakan fungsi **head()** untuk menampilkan 5 data pertama."
      ]
    },
    {
      "cell_type": "code",
      "execution_count": 18,
      "metadata": {
        "colab": {
          "base_uri": "https://localhost:8080/",
          "height": 204
        },
        "id": "3zIEJth2fB-d",
        "outputId": "842533bd-1059-400c-97bb-1696a6df43fb"
      },
      "outputs": [
        {
          "data": {
            "text/html": [
              "<div>\n",
              "<style scoped>\n",
              "    .dataframe tbody tr th:only-of-type {\n",
              "        vertical-align: middle;\n",
              "    }\n",
              "\n",
              "    .dataframe tbody tr th {\n",
              "        vertical-align: top;\n",
              "    }\n",
              "\n",
              "    .dataframe thead th {\n",
              "        text-align: right;\n",
              "    }\n",
              "</style>\n",
              "<table border=\"1\" class=\"dataframe\">\n",
              "  <thead>\n",
              "    <tr style=\"text-align: right;\">\n",
              "      <th></th>\n",
              "      <th>sepal_length</th>\n",
              "      <th>sepal_width</th>\n",
              "      <th>petal_length</th>\n",
              "      <th>petal_width</th>\n",
              "      <th>species</th>\n",
              "    </tr>\n",
              "  </thead>\n",
              "  <tbody>\n",
              "    <tr>\n",
              "      <th>0</th>\n",
              "      <td>5.1</td>\n",
              "      <td>3.5</td>\n",
              "      <td>1.4</td>\n",
              "      <td>0.2</td>\n",
              "      <td>setosa</td>\n",
              "    </tr>\n",
              "    <tr>\n",
              "      <th>1</th>\n",
              "      <td>4.9</td>\n",
              "      <td>3.0</td>\n",
              "      <td>1.4</td>\n",
              "      <td>0.2</td>\n",
              "      <td>setosa</td>\n",
              "    </tr>\n",
              "    <tr>\n",
              "      <th>2</th>\n",
              "      <td>0.0</td>\n",
              "      <td>3.2</td>\n",
              "      <td>1.3</td>\n",
              "      <td>0.2</td>\n",
              "      <td>setosa</td>\n",
              "    </tr>\n",
              "    <tr>\n",
              "      <th>3</th>\n",
              "      <td>4.6</td>\n",
              "      <td>3.1</td>\n",
              "      <td>1.5</td>\n",
              "      <td>0.2</td>\n",
              "      <td>setosa</td>\n",
              "    </tr>\n",
              "    <tr>\n",
              "      <th>4</th>\n",
              "      <td>5.0</td>\n",
              "      <td>3.6</td>\n",
              "      <td>1.4</td>\n",
              "      <td>0.2</td>\n",
              "      <td>setosa</td>\n",
              "    </tr>\n",
              "  </tbody>\n",
              "</table>\n",
              "</div>"
            ],
            "text/plain": [
              "   sepal_length  sepal_width  petal_length  petal_width species\n",
              "0           5.1          3.5           1.4          0.2  setosa\n",
              "1           4.9          3.0           1.4          0.2  setosa\n",
              "2           0.0          3.2           1.3          0.2  setosa\n",
              "3           4.6          3.1           1.5          0.2  setosa\n",
              "4           5.0          3.6           1.4          0.2  setosa"
            ]
          },
          "execution_count": 18,
          "metadata": {
            "tags": []
          },
          "output_type": "execute_result"
        }
      ],
      "source": [
        "data.head() #Menampilkan 5 data pertama\n",
        "#data.tail() #Menampilkan 5 data terakhir\n",
        "#data.select(5) #Menampilkan 5 data random"
      ]
    },
    {
      "cell_type": "markdown",
      "metadata": {
        "id": "tPbKFyGVs3Xs"
      },
      "source": [
        "Berdasarkan informasi dari fungsi **head()**, data iris yang \n",
        "digunakan mempunyai 4 fitur sebagai berikut :\n",
        "\n",
        "\n",
        "1.   sepal length\n",
        "2.   sepal width\n",
        "3.   petal length\n",
        "4.   petal width"
      ]
    },
    {
      "cell_type": "markdown",
      "metadata": {
        "id": "GhKSY9e0t4gf"
      },
      "source": [
        "### 2) Missing value dan imputasi data\n",
        "\n",
        "\n",
        "\n",
        "\n",
        "Jika Anda perhatikan dengan seksama, data pada baris ke-3 (index 2) pada fitur sepal length memiliki nilai 0.0. Hal ini menandakan adanya missing value pada data. Jalankan cell di bawah ini untuk mendapatkan semua data yang mengandung missing value. Pencarian data yang mengandung missing value dilakukan dengan tahapan sebagai berikut:\n",
        "\n",
        "\n",
        "1.   Membuat filter untuk mencari data dengan sepal_length = 0, sepal_width = 0, petal_length = 0, petal_width =0\n",
        "2.   Mencari data yang memenuhi kondisi1 **atau** kondisi2 **atau** kondisi3 **atau** kondisi4 menggunakan property [loc](https://pandas.pydata.org/pandas-docs/stable/reference/api/pandas.DataFrame.loc.html) pada dataframe\n",
        "\n"
      ]
    },
    {
      "cell_type": "code",
      "execution_count": 19,
      "metadata": {
        "colab": {
          "base_uri": "https://localhost:8080/",
          "height": 0
        },
        "id": "rP3gGlgrlb-I",
        "outputId": "6cd49e42-f282-45a4-da71-4646b53f11a1"
      },
      "outputs": [
        {
          "data": {
            "text/html": [
              "<div>\n",
              "<style scoped>\n",
              "    .dataframe tbody tr th:only-of-type {\n",
              "        vertical-align: middle;\n",
              "    }\n",
              "\n",
              "    .dataframe tbody tr th {\n",
              "        vertical-align: top;\n",
              "    }\n",
              "\n",
              "    .dataframe thead th {\n",
              "        text-align: right;\n",
              "    }\n",
              "</style>\n",
              "<table border=\"1\" class=\"dataframe\">\n",
              "  <thead>\n",
              "    <tr style=\"text-align: right;\">\n",
              "      <th></th>\n",
              "      <th>sepal_length</th>\n",
              "      <th>sepal_width</th>\n",
              "      <th>petal_length</th>\n",
              "      <th>petal_width</th>\n",
              "      <th>species</th>\n",
              "    </tr>\n",
              "  </thead>\n",
              "  <tbody>\n",
              "    <tr>\n",
              "      <th>2</th>\n",
              "      <td>0.0</td>\n",
              "      <td>3.2</td>\n",
              "      <td>1.3</td>\n",
              "      <td>0.2</td>\n",
              "      <td>setosa</td>\n",
              "    </tr>\n",
              "    <tr>\n",
              "      <th>11</th>\n",
              "      <td>0.0</td>\n",
              "      <td>3.4</td>\n",
              "      <td>1.6</td>\n",
              "      <td>0.2</td>\n",
              "      <td>setosa</td>\n",
              "    </tr>\n",
              "    <tr>\n",
              "      <th>32</th>\n",
              "      <td>5.2</td>\n",
              "      <td>0.0</td>\n",
              "      <td>1.5</td>\n",
              "      <td>0.1</td>\n",
              "      <td>setosa</td>\n",
              "    </tr>\n",
              "    <tr>\n",
              "      <th>47</th>\n",
              "      <td>4.6</td>\n",
              "      <td>3.2</td>\n",
              "      <td>0.0</td>\n",
              "      <td>0.2</td>\n",
              "      <td>setosa</td>\n",
              "    </tr>\n",
              "    <tr>\n",
              "      <th>51</th>\n",
              "      <td>6.4</td>\n",
              "      <td>0.0</td>\n",
              "      <td>4.5</td>\n",
              "      <td>1.5</td>\n",
              "      <td>versicolor</td>\n",
              "    </tr>\n",
              "    <tr>\n",
              "      <th>65</th>\n",
              "      <td>6.7</td>\n",
              "      <td>3.1</td>\n",
              "      <td>4.4</td>\n",
              "      <td>0.0</td>\n",
              "      <td>versicolor</td>\n",
              "    </tr>\n",
              "    <tr>\n",
              "      <th>67</th>\n",
              "      <td>5.8</td>\n",
              "      <td>2.7</td>\n",
              "      <td>0.0</td>\n",
              "      <td>1.0</td>\n",
              "      <td>versicolor</td>\n",
              "    </tr>\n",
              "    <tr>\n",
              "      <th>86</th>\n",
              "      <td>6.7</td>\n",
              "      <td>0.0</td>\n",
              "      <td>4.7</td>\n",
              "      <td>1.5</td>\n",
              "      <td>versicolor</td>\n",
              "    </tr>\n",
              "    <tr>\n",
              "      <th>107</th>\n",
              "      <td>0.0</td>\n",
              "      <td>2.9</td>\n",
              "      <td>6.3</td>\n",
              "      <td>1.8</td>\n",
              "      <td>virginica</td>\n",
              "    </tr>\n",
              "    <tr>\n",
              "      <th>112</th>\n",
              "      <td>6.8</td>\n",
              "      <td>3.0</td>\n",
              "      <td>0.0</td>\n",
              "      <td>2.1</td>\n",
              "      <td>virginica</td>\n",
              "    </tr>\n",
              "    <tr>\n",
              "      <th>113</th>\n",
              "      <td>5.7</td>\n",
              "      <td>2.5</td>\n",
              "      <td>5.0</td>\n",
              "      <td>0.0</td>\n",
              "      <td>virginica</td>\n",
              "    </tr>\n",
              "    <tr>\n",
              "      <th>139</th>\n",
              "      <td>6.9</td>\n",
              "      <td>3.1</td>\n",
              "      <td>5.4</td>\n",
              "      <td>0.0</td>\n",
              "      <td>virginica</td>\n",
              "    </tr>\n",
              "    <tr>\n",
              "      <th>145</th>\n",
              "      <td>6.7</td>\n",
              "      <td>3.0</td>\n",
              "      <td>5.2</td>\n",
              "      <td>0.0</td>\n",
              "      <td>virginica</td>\n",
              "    </tr>\n",
              "  </tbody>\n",
              "</table>\n",
              "</div>"
            ],
            "text/plain": [
              "     sepal_length  sepal_width  petal_length  petal_width     species\n",
              "2             0.0          3.2           1.3          0.2      setosa\n",
              "11            0.0          3.4           1.6          0.2      setosa\n",
              "32            5.2          0.0           1.5          0.1      setosa\n",
              "47            4.6          3.2           0.0          0.2      setosa\n",
              "51            6.4          0.0           4.5          1.5  versicolor\n",
              "65            6.7          3.1           4.4          0.0  versicolor\n",
              "67            5.8          2.7           0.0          1.0  versicolor\n",
              "86            6.7          0.0           4.7          1.5  versicolor\n",
              "107           0.0          2.9           6.3          1.8   virginica\n",
              "112           6.8          3.0           0.0          2.1   virginica\n",
              "113           5.7          2.5           5.0          0.0   virginica\n",
              "139           6.9          3.1           5.4          0.0   virginica\n",
              "145           6.7          3.0           5.2          0.0   virginica"
            ]
          },
          "execution_count": 19,
          "metadata": {
            "tags": []
          },
          "output_type": "execute_result"
        }
      ],
      "source": [
        "condition1 = data['sepal_length'] == 0.0  #Jika panjang sepal 0.0\n",
        "condition2 = data['sepal_width'] == 0.0   #Jika lebar sepal 0.0\n",
        "condition3 = data['petal_length'] == 0.0  #Jika lebar panjang 0.0\n",
        "condition4 = data['petal_width'] == 0.0   #Jika lebar petal 0.0\n",
        "\n",
        "data.loc[condition1 | condition2 | condition3 | condition4] #Mencari data yang memenuhi condition yang di tetapkan\n"
      ]
    },
    {
      "cell_type": "markdown",
      "metadata": {
        "id": "pQlIlPnMC047"
      },
      "source": [
        "Penanganan missing value pada Pandas akan lebih mudah apabila data yang hilang (bernilai 0.0) diganti dengan NaN (Not A Number). Gunakan properti **replace** pada dataframe untuk menggganti 0.0 menjadi NaN"
      ]
    },
    {
      "cell_type": "code",
      "execution_count": 20,
      "metadata": {
        "id": "vMQqkH62CSoe"
      },
      "outputs": [],
      "source": [
        "data = data.replace(0.0,np.NaN) \n",
        "# .replace() digunakan untuk mengganti data, dalam kasus ini\n",
        "# data yang ingin diganti bernilai 0.0, diganti dengan Nan (Not A Number)"
      ]
    },
    {
      "cell_type": "markdown",
      "metadata": {
        "id": "-xQtglGOyCyD"
      },
      "source": [
        "Terdapat beberapa cara untuk mengatasi permasalahan missing value pada data. Salah satu cara yang sederhana adalah dengan mengganti nilai NaN pada suatu fitur dengan rata-rata nilai fitur tersebut pada data lain yang bernilai bukan Nan. Perhatikan bahwa Anda harus mengganti nilai NaN dengan rata-rata data lain yang memiliki kategori (species) yang sama.\n",
        "\n",
        "Fungsi-fungsi pada Pandas yang dapat Anda manfaatkan:\n",
        "\n",
        "\n",
        "1.   **transform** untuk mengaplikasikan fungsi tertentu pada dataframe, pada permasalahan ini fungsi yang digunakan adalah fungsi **mean**\n",
        "2.   **groupby** untuk mengelompokkan dataframe berdasarkan nilai kolom tertentu, pada permasalahan ini kolom yang digunakan adalah **species**\n",
        "3. **fillna** untuk mengganti nilai NaN dengan nilai yang telah ditentukan\n",
        "\n",
        "\n",
        "\n",
        "\n",
        "Buatlah fungsi bernama **imputasi** yang melakukan tahapan berikut:\n",
        "\n",
        "\n",
        "1.   Menghitung rata-rata masing-masing kolom berdasarkan kelasnya\n",
        "2.   Mengisi kolom yang berisi NaN dengan rata-rata kelas yang sesuai\n",
        "\n",
        "\n"
      ]
    },
    {
      "cell_type": "code",
      "execution_count": 21,
      "metadata": {
        "id": "n-cR9J2EMOMh"
      },
      "outputs": [],
      "source": [
        "def imputasi(df_input):\n",
        "  list_columns = df_input.columns   #Mengambil daftar kolong yang ada dalam data frame\n",
        "  class_column = list_columns[-1]   #Kolom terakhir merupakan kolom kelas\n",
        "  for column in list_columns[:-1] :\n",
        "    df_input[column] = df_input[column].fillna(df_input.groupby(class_column)[column].transform('mean'))\n",
        "    #Nilai NaN agar digantikan per kolom\n",
        "  return df_input"
      ]
    },
    {
      "cell_type": "markdown",
      "metadata": {
        "id": "fd7tcpRYi8Wx"
      },
      "source": [
        "Buatlah sebuah dataframe baru bernama **data_imputasi** yang berisi dataset dengan nilai NaN yang sudah diganti dengan cara memanggil fungsi **imputasi**."
      ]
    },
    {
      "cell_type": "code",
      "execution_count": 22,
      "metadata": {
        "id": "DQgmHM96S1Vd"
      },
      "outputs": [],
      "source": [
        "data_imputasi = imputasi(data)"
      ]
    },
    {
      "cell_type": "markdown",
      "metadata": {
        "id": "Wxccxn1Njczp"
      },
      "source": [
        "Cek apakah masih terdapat nilai NaN pada dataframe."
      ]
    },
    {
      "cell_type": "code",
      "execution_count": 23,
      "metadata": {
        "colab": {
          "base_uri": "https://localhost:8080/"
        },
        "id": "eQPaaaMP9sIA",
        "outputId": "66312e6d-34d5-498e-a5d3-74cbff4270cf"
      },
      "outputs": [
        {
          "data": {
            "text/plain": [
              "False"
            ]
          },
          "execution_count": 23,
          "metadata": {
            "tags": []
          },
          "output_type": "execute_result"
        }
      ],
      "source": [
        "data_imputasi.isnull().values.any()"
      ]
    },
    {
      "cell_type": "markdown",
      "metadata": {
        "id": "p9VL92u7jskP"
      },
      "source": [
        "### 3) Normalisasi MinMax\n",
        "Normalisasi bertujuan menyamakan rentang nilai pada setiap fitur. Beberapa metode pembelajaran mesin memiliki kinerja yang buruk apabila rentang nilai tiap variabel berbeda jauh.\n",
        "\n",
        "Sebelum melakukan normalisasi, cek terlebih dahulu rentang (nilai max - nilai min) pada masing masing fitur"
      ]
    },
    {
      "cell_type": "code",
      "execution_count": 10,
      "metadata": {
        "id": "R9FXu_IQl8Ig"
      },
      "outputs": [],
      "source": [
        "def cetak_rentang(df_input):\n",
        "  list_fitur=df_input.columns[:-1] #Digunakan untuk mengambil nama kolom, Kecuali yang terakhir\n",
        "  for fitur in list_fitur:\n",
        "    max=df_input[fitur].max()\n",
        "    min=df_input[fitur].min()\n",
        "    print(\"Rentar fitur \", fitur, \"Adalah \", max-min)"
      ]
    },
    {
      "cell_type": "code",
      "execution_count": 11,
      "metadata": {
        "colab": {
          "base_uri": "https://localhost:8080/"
        },
        "id": "snFnC2rxjmIa",
        "outputId": "06352b79-3c0e-4027-ce68-c940ffc52405"
      },
      "outputs": [
        {
          "name": "stdout",
          "output_type": "stream",
          "text": [
            "Rentar fitur  sepal_length Adalah  3.6000000000000005\n",
            "Rentar fitur  sepal_width Adalah  2.4000000000000004\n",
            "Rentar fitur  petal_length Adalah  5.9\n",
            "Rentar fitur  petal_width Adalah  2.4\n"
          ]
        }
      ],
      "source": [
        "cetak_rentang(data_imputasi)"
      ]
    },
    {
      "cell_type": "markdown",
      "metadata": {
        "id": "JpDTiUpElTRN"
      },
      "source": [
        "Terlihat bahwa masing-masing fitur memiliki rentang yang berbeda, meskipun tidak terlalu signifikan. Pada praktikum ini Anda akan mengimplementasikan normalisasi MinMax untuk menyamakan rentang setiap fitur menjadi satu (1). Persamaan dari fungsi normalisasi MinMax adalah sebagai berikut:\n",
        "\n",
        "$x'=\\frac{x-min(x)}{max(x)-min(x)}$\n",
        "\n",
        "dimana $x'$ merupakan nilai ternormalisasi, $x$ adalah nilai asal, $min(x)$ merupakan nilai minimum pada suatu fitur, dan $max(x)$ merupakan nilai maksimum pada suatu fitur.\n",
        "\n",
        "Implementasikan metode normalisasi MinMax pada fungsi bernama **minmax**.\n"
      ]
    },
    {
      "cell_type": "code",
      "execution_count": 12,
      "metadata": {
        "id": "tQmEe-Qckfnb"
      },
      "outputs": [],
      "source": [
        "def minmax(df_input):\n",
        "  list_fitur=df_input.columns[:-1] #Digunakan untuk mengambil nama kolom, Kecuali yang terakhir\n",
        "  for fitur in list_fitur:\n",
        "    max=df_input[fitur].max()\n",
        "    min=df_input[fitur].min()\n",
        "    df_input[fitur]=(df_input[fitur]-min)/(max-min)\n",
        "  return df_input"
      ]
    },
    {
      "cell_type": "markdown",
      "metadata": {
        "id": "Lj32Smx6n8LU"
      },
      "source": [
        "Buatlah sebuah dataframe baru bernama **data_normal** yang berisi hasil dari metode minmax dengan input **data_imputasi**"
      ]
    },
    {
      "cell_type": "code",
      "execution_count": 13,
      "metadata": {
        "id": "Ow1QWldFnvBu"
      },
      "outputs": [],
      "source": [
        "data_normal=minmax(data_imputasi)"
      ]
    },
    {
      "cell_type": "markdown",
      "metadata": {
        "id": "4OHT17WfoGou"
      },
      "source": [
        "Cek 5 baris pertama **data_normal**"
      ]
    },
    {
      "cell_type": "code",
      "execution_count": 14,
      "metadata": {
        "colab": {
          "base_uri": "https://localhost:8080/",
          "height": 204
        },
        "id": "fbbNpN9enzYI",
        "outputId": "1cf2d76d-c2e7-4e1c-c4c4-eac067165182"
      },
      "outputs": [
        {
          "data": {
            "text/html": [
              "<div>\n",
              "<style scoped>\n",
              "    .dataframe tbody tr th:only-of-type {\n",
              "        vertical-align: middle;\n",
              "    }\n",
              "\n",
              "    .dataframe tbody tr th {\n",
              "        vertical-align: top;\n",
              "    }\n",
              "\n",
              "    .dataframe thead th {\n",
              "        text-align: right;\n",
              "    }\n",
              "</style>\n",
              "<table border=\"1\" class=\"dataframe\">\n",
              "  <thead>\n",
              "    <tr style=\"text-align: right;\">\n",
              "      <th></th>\n",
              "      <th>sepal_length</th>\n",
              "      <th>sepal_width</th>\n",
              "      <th>petal_length</th>\n",
              "      <th>petal_width</th>\n",
              "      <th>species</th>\n",
              "    </tr>\n",
              "  </thead>\n",
              "  <tbody>\n",
              "    <tr>\n",
              "      <th>0</th>\n",
              "      <td>0.222222</td>\n",
              "      <td>0.625000</td>\n",
              "      <td>0.067797</td>\n",
              "      <td>0.041667</td>\n",
              "      <td>setosa</td>\n",
              "    </tr>\n",
              "    <tr>\n",
              "      <th>1</th>\n",
              "      <td>0.166667</td>\n",
              "      <td>0.416667</td>\n",
              "      <td>0.067797</td>\n",
              "      <td>0.041667</td>\n",
              "      <td>setosa</td>\n",
              "    </tr>\n",
              "    <tr>\n",
              "      <th>2</th>\n",
              "      <td>0.199074</td>\n",
              "      <td>0.500000</td>\n",
              "      <td>0.050847</td>\n",
              "      <td>0.041667</td>\n",
              "      <td>setosa</td>\n",
              "    </tr>\n",
              "    <tr>\n",
              "      <th>3</th>\n",
              "      <td>0.083333</td>\n",
              "      <td>0.458333</td>\n",
              "      <td>0.084746</td>\n",
              "      <td>0.041667</td>\n",
              "      <td>setosa</td>\n",
              "    </tr>\n",
              "    <tr>\n",
              "      <th>4</th>\n",
              "      <td>0.194444</td>\n",
              "      <td>0.666667</td>\n",
              "      <td>0.067797</td>\n",
              "      <td>0.041667</td>\n",
              "      <td>setosa</td>\n",
              "    </tr>\n",
              "  </tbody>\n",
              "</table>\n",
              "</div>"
            ],
            "text/plain": [
              "   sepal_length  sepal_width  petal_length  petal_width species\n",
              "0      0.222222     0.625000      0.067797     0.041667  setosa\n",
              "1      0.166667     0.416667      0.067797     0.041667  setosa\n",
              "2      0.199074     0.500000      0.050847     0.041667  setosa\n",
              "3      0.083333     0.458333      0.084746     0.041667  setosa\n",
              "4      0.194444     0.666667      0.067797     0.041667  setosa"
            ]
          },
          "execution_count": 14,
          "metadata": {
            "tags": []
          },
          "output_type": "execute_result"
        }
      ],
      "source": [
        "data_normal.head()"
      ]
    },
    {
      "cell_type": "markdown",
      "metadata": {
        "id": "HWU0cCGBoOLR"
      },
      "source": [
        "Tampilkan rentang masing-masing fitur menggunakan fungsi **cetak_rentang** yang telah dibuat"
      ]
    },
    {
      "cell_type": "code",
      "execution_count": 15,
      "metadata": {
        "colab": {
          "base_uri": "https://localhost:8080/"
        },
        "id": "qQay3cQ5n1rk",
        "outputId": "b356f880-4827-4f9b-82bb-031588e2d81a"
      },
      "outputs": [
        {
          "name": "stdout",
          "output_type": "stream",
          "text": [
            "Rentar fitur  sepal_length Adalah  1.0\n",
            "Rentar fitur  sepal_width Adalah  1.0\n",
            "Rentar fitur  petal_length Adalah  1.0\n",
            "Rentar fitur  petal_width Adalah  1.0\n"
          ]
        }
      ],
      "source": [
        "cetak_rentang(data_normal)"
      ]
    },
    {
      "cell_type": "markdown",
      "metadata": {
        "id": "7br3-zmsp5Dx"
      },
      "source": [
        "## TUGAS\n",
        "1. Implementasikan metode normalisasi Z-score dengan cara membuat fungsi bernama **zscore**.\n",
        "2. Normalisasikan dataframe **data_imputasi** menggunakan fungsi **zscore**. Simpan hasilnya pada dataframe bernama **data_zscore**.\n",
        "3. Jelaskan perbedaan hasil normalisasi **MinMax** dan **ZScore**. Petunjuk : cek nilai rentang, rata-rata dan standar deviasi dari **data_zscore**.\n"
      ]
    },
    {
      "cell_type": "code",
      "execution_count": 24,
      "metadata": {
        "id": "jQwH6j-0n4-w"
      },
      "outputs": [],
      "source": [
        "def zscore(df_input):\n",
        "  #tuliskan jawaban nomor 1 di sini\n",
        "  #Rumus :\n",
        "  #Z = (x - mean ) / StandarDeviasi\n",
        "  list_fitur=df_input.columns[:-1] #Digunakan untuk mengambil nama kolom, Kecuali yang terakhir\n",
        "  for fitur in list_fitur:\n",
        "    Mean=df_input[fitur].mean()\n",
        "    STD=df_input[fitur].std()\n",
        "    df_input[fitur]=(df_input[fitur]-Mean)/STD\n",
        "  return df_input"
      ]
    },
    {
      "cell_type": "code",
      "execution_count": 25,
      "metadata": {
        "id": "CRXju1M1mTlJ"
      },
      "outputs": [],
      "source": [
        "data_zscore = zscore(data_imputasi)"
      ]
    },
    {
      "cell_type": "code",
      "execution_count": 26,
      "metadata": {
        "colab": {
          "base_uri": "https://localhost:8080/",
          "height": 204
        },
        "id": "vtsHB8VEmhqu",
        "outputId": "ae335652-d50f-4cbf-9b50-6cff96ddc5ca"
      },
      "outputs": [
        {
          "data": {
            "text/html": [
              "<div>\n",
              "<style scoped>\n",
              "    .dataframe tbody tr th:only-of-type {\n",
              "        vertical-align: middle;\n",
              "    }\n",
              "\n",
              "    .dataframe tbody tr th {\n",
              "        vertical-align: top;\n",
              "    }\n",
              "\n",
              "    .dataframe thead th {\n",
              "        text-align: right;\n",
              "    }\n",
              "</style>\n",
              "<table border=\"1\" class=\"dataframe\">\n",
              "  <thead>\n",
              "    <tr style=\"text-align: right;\">\n",
              "      <th></th>\n",
              "      <th>sepal_length</th>\n",
              "      <th>sepal_width</th>\n",
              "      <th>petal_length</th>\n",
              "      <th>petal_width</th>\n",
              "      <th>species</th>\n",
              "    </tr>\n",
              "  </thead>\n",
              "  <tbody>\n",
              "    <tr>\n",
              "      <th>0</th>\n",
              "      <td>-0.907825</td>\n",
              "      <td>1.067415</td>\n",
              "      <td>-1.337827</td>\n",
              "      <td>-1.310036</td>\n",
              "      <td>setosa</td>\n",
              "    </tr>\n",
              "    <tr>\n",
              "      <th>1</th>\n",
              "      <td>-1.152507</td>\n",
              "      <td>-0.103209</td>\n",
              "      <td>-1.337827</td>\n",
              "      <td>-1.310036</td>\n",
              "      <td>setosa</td>\n",
              "    </tr>\n",
              "    <tr>\n",
              "      <th>2</th>\n",
              "      <td>-1.009776</td>\n",
              "      <td>0.365041</td>\n",
              "      <td>-1.394502</td>\n",
              "      <td>-1.310036</td>\n",
              "      <td>setosa</td>\n",
              "    </tr>\n",
              "    <tr>\n",
              "      <th>3</th>\n",
              "      <td>-1.519530</td>\n",
              "      <td>0.130916</td>\n",
              "      <td>-1.281153</td>\n",
              "      <td>-1.310036</td>\n",
              "      <td>setosa</td>\n",
              "    </tr>\n",
              "    <tr>\n",
              "      <th>4</th>\n",
              "      <td>-1.030166</td>\n",
              "      <td>1.301539</td>\n",
              "      <td>-1.337827</td>\n",
              "      <td>-1.310036</td>\n",
              "      <td>setosa</td>\n",
              "    </tr>\n",
              "  </tbody>\n",
              "</table>\n",
              "</div>"
            ],
            "text/plain": [
              "   sepal_length  sepal_width  petal_length  petal_width species\n",
              "0     -0.907825     1.067415     -1.337827    -1.310036  setosa\n",
              "1     -1.152507    -0.103209     -1.337827    -1.310036  setosa\n",
              "2     -1.009776     0.365041     -1.394502    -1.310036  setosa\n",
              "3     -1.519530     0.130916     -1.281153    -1.310036  setosa\n",
              "4     -1.030166     1.301539     -1.337827    -1.310036  setosa"
            ]
          },
          "execution_count": 26,
          "metadata": {
            "tags": []
          },
          "output_type": "execute_result"
        }
      ],
      "source": [
        "data_zscore.head()"
      ]
    },
    {
      "cell_type": "markdown",
      "metadata": {
        "id": "wIR0eFqQoob8"
      },
      "source": [
        "Tuliskan jawaban pertanyaan nomor 3 **di sini**"
      ]
    },
    {
      "cell_type": "code",
      "execution_count": 27,
      "metadata": {
        "colab": {
          "base_uri": "https://localhost:8080/"
        },
        "id": "hNLI-K6YnVvM",
        "outputId": "9eeb07b0-adb6-487c-d978-1696dc01346a"
      },
      "outputs": [
        {
          "name": "stdout",
          "output_type": "stream",
          "text": [
            "Data Z - SCORE\n",
            "\n",
            "Nilai Standar Deviasi\n",
            "\n",
            "sepal_length    1.0\n",
            "sepal_width     1.0\n",
            "petal_length    1.0\n",
            "petal_width     1.0\n",
            "dtype: float64\n",
            "\n",
            "Nilai Rata - rata\n",
            "\n",
            "sepal_length   -2.854383e-15\n",
            "sepal_width    -1.943723e-15\n",
            "petal_length   -1.515084e-15\n",
            "petal_width    -7.490305e-16\n",
            "dtype: float64\n",
            "\n",
            "Rentang data ZScore\n",
            "Rentar fitur  sepal_length Adalah  4.404274071759238\n",
            "Rentar fitur  sepal_width Adalah  5.618992178331548\n",
            "Rentar fitur  petal_length Adalah  3.3437971620673492\n",
            "Rentar fitur  petal_width Adalah  3.1570957553844208\n",
            "\n"
          ]
        }
      ],
      "source": [
        "#DATA Z SCORE\n",
        "print(\"Data Z - SCORE\\n\")\n",
        "#Melihat nilai Std\n",
        "print(\"Nilai Standar Deviasi\\n\")\n",
        "print(data_zscore.std())\n",
        "print()\n",
        "#Melihat nilai Rata2\n",
        "print(\"Nilai Rata - rata\\n\")\n",
        "print(data_zscore.mean())\n",
        "print()\n",
        "#Melihat nilai rentang data\n",
        "print(\"Rentang data ZScore\")\n",
        "cetak_rentang(data_zscore)\n",
        "print()"
      ]
    },
    {
      "cell_type": "code",
      "execution_count": 16,
      "metadata": {
        "colab": {
          "base_uri": "https://localhost:8080/"
        },
        "id": "vaXauiNrHXSg",
        "outputId": "63a6c171-e9ad-4963-c4d6-6d04d54cee6a"
      },
      "outputs": [
        {
          "name": "stdout",
          "output_type": "stream",
          "text": [
            "Data MinMax\n",
            "\n",
            "Nilai Standar Deviasi\n",
            "\n",
            "sepal_length    0.227052\n",
            "sepal_width     0.177968\n",
            "petal_length    0.299061\n",
            "petal_width     0.316747\n",
            "dtype: float64\n",
            "\n",
            "Nilai Rata - rata\n",
            "\n",
            "sepal_length    0.428346\n",
            "sepal_width     0.435034\n",
            "petal_length    0.467889\n",
            "petal_width     0.456616\n",
            "dtype: float64\n",
            "\n",
            "Rentang data Minmax\n",
            "Rentar fitur  sepal_length Adalah  1.0\n",
            "Rentar fitur  sepal_width Adalah  1.0\n",
            "Rentar fitur  petal_length Adalah  1.0\n",
            "Rentar fitur  petal_width Adalah  1.0\n",
            "\n"
          ]
        }
      ],
      "source": [
        "#DATA MinMax\n",
        "print(\"Data MinMax\\n\")\n",
        "#Melihat nilai Std\n",
        "print(\"Nilai Standar Deviasi\\n\")\n",
        "print(data_normal.std())\n",
        "print()\n",
        "#Melihat nilai Rata2\n",
        "print(\"Nilai Rata - rata\\n\")\n",
        "print(data_normal.mean())\n",
        "print()\n",
        "#Melihat nilai rentang data\n",
        "print(\"Rentang data Minmax\")\n",
        "cetak_rentang(data_normal)\n",
        "print()"
      ]
    },
    {
      "cell_type": "markdown",
      "metadata": {
        "id": "WukjAmBJHpzA"
      },
      "source": [
        "**Penjelasan Perbedaan Data**\n",
        "\n",
        "Dapat dilihat disini normalisasi menggunakan MinMax dan ZScore memiliki perbedaan hasil data, \n",
        "\n",
        "1. Rentang data untuk MinMax selalu 1.0 sedangkan untuk Zscore beragam\n",
        "2. Nilai Standar Deviasi untuk Zscore selalu 1.0 sedangkan untuk MinMax beragam\n",
        "3. Nilai Rata - rata untuk Zscore dapat berupa minus dan mendekati nilai 0, sedangkan untuk MinMax biasanya bernilai tidak jauh dari 0.5 ~ (Berada antara 0 sampai 1)\n",
        "4. Perbedaan yang paling mencolok ialah dimana Pada MinMax yang bernilai 1.0 adalah Rentang datanya, Namun Pada ZScore adalah Standar Deviasinya\n",
        "\n",
        "Normalisasi MinMax : Memastikan agar setiap fitur memiliki rentang data yang sama, namun tidak mengatasi outliers (Data pencilan) dengan baik.\n",
        "\n",
        "Normalisasi ZScore : Untuk ZScore justru lebih mengatasi outliers dengan baik, namun tidak menghasilkan rentang data yang sama.\n",
        "\n",
        "\n"
      ]
    }
  ],
  "metadata": {
    "colab": {
      "collapsed_sections": [
        "GhKSY9e0t4gf",
        "p9VL92u7jskP"
      ],
      "name": "Praktikum 2 - Hasyir Daffa Ibrahim - 195150207111039",
      "provenance": []
    },
    "kernelspec": {
      "display_name": "Python 3",
      "name": "python3"
    }
  },
  "nbformat": 4,
  "nbformat_minor": 0
}
