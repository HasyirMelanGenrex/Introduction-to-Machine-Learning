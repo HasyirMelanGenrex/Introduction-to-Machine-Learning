{
  "nbformat": 4,
  "nbformat_minor": 0,
  "metadata": {
    "colab": {
      "name": "Praktikum 7 - Hasyir Daffa Ibrahim - 195150207111039",
      "provenance": [],
      "collapsed_sections": [
        "sQAGcnK3MOS7",
        "lfi1uHIxPdDe",
        "ub4I9YOp-pWS",
        "Ikiam_bv8sM1"
      ]
    },
    "kernelspec": {
      "name": "python3",
      "display_name": "Python 3"
    }
  },
  "cells": [
    {
      "cell_type": "markdown",
      "metadata": {
        "id": "-qDsm6BnME2X"
      },
      "source": [
        "# Praktikum Pengantar Pembelajaran Mesin\n",
        "\n",
        "\n",
        "---\n",
        "## Bab 7. Support Vector Machine (SVM) Lanjutan\n"
      ]
    },
    {
      "cell_type": "markdown",
      "metadata": {
        "id": "sQAGcnK3MOS7"
      },
      "source": [
        "### 1) Import Data\n",
        "\n",
        "Unduh dataset yang akan digunakan pada praktikum kali ini. Anda dapat menggunakan aplikasi wget untuk mendowload dataset dan menyimpannya dalam Google Colab. Jalankan cell di bawah ini untuk mengunduh dataset"
      ]
    },
    {
      "cell_type": "code",
      "metadata": {
        "id": "FpjqVlzBMNLd",
        "colab": {
          "base_uri": "https://localhost:8080/"
        },
        "outputId": "a8eb15c3-2090-47e9-b0c4-832345c33499"
      },
      "source": [
        "!wget https://dataset-ppm.s3.amazonaws.com/iris.csv"
      ],
      "execution_count": 1,
      "outputs": [
        {
          "output_type": "stream",
          "text": [
            "--2021-04-26 04:17:03--  https://dataset-ppm.s3.amazonaws.com/iris.csv\n",
            "Resolving dataset-ppm.s3.amazonaws.com (dataset-ppm.s3.amazonaws.com)... 52.216.141.12\n",
            "Connecting to dataset-ppm.s3.amazonaws.com (dataset-ppm.s3.amazonaws.com)|52.216.141.12|:443... connected.\n",
            "HTTP request sent, awaiting response... 200 OK\n",
            "Length: 4609 (4.5K) [text/csv]\n",
            "Saving to: ‘iris.csv’\n",
            "\n",
            "iris.csv            100%[===================>]   4.50K  --.-KB/s    in 0s      \n",
            "\n",
            "2021-04-26 04:17:04 (229 MB/s) - ‘iris.csv’ saved [4609/4609]\n",
            "\n"
          ],
          "name": "stdout"
        }
      ]
    },
    {
      "cell_type": "markdown",
      "metadata": {
        "id": "SJy4t3lIOgGp"
      },
      "source": [
        "Setelah dataset berhasil diunduh, langkah berikutnya adalah membaca dataset dengan memanfaatkan fungsi **readcsv** dari library pandas. Lakukan pembacaan berkas csv ke dalam dataframe dengan nama **data** menggunakan fungsi **readcsv**. Jangan lupa untuk melakukan import library pandas terlebih dahulu\n"
      ]
    },
    {
      "cell_type": "code",
      "metadata": {
        "id": "mdhbxk_2OzbB"
      },
      "source": [
        "import pandas as pd \n",
        "import numpy as np \n",
        "data = pd.read_csv('iris.csv')"
      ],
      "execution_count": 2,
      "outputs": []
    },
    {
      "cell_type": "markdown",
      "metadata": {
        "id": "w6NfrIDTOK38"
      },
      "source": [
        "\n",
        "\n",
        "Cek isi dataset Anda dengan menggunakan perintah **head()**"
      ]
    },
    {
      "cell_type": "code",
      "metadata": {
        "id": "Uaiaj796OFH3",
        "colab": {
          "base_uri": "https://localhost:8080/",
          "height": 0
        },
        "outputId": "5b80915b-217f-4128-a676-4fccf5ea13ad"
      },
      "source": [
        "data.head()"
      ],
      "execution_count": 3,
      "outputs": [
        {
          "output_type": "execute_result",
          "data": {
            "text/html": [
              "<div>\n",
              "<style scoped>\n",
              "    .dataframe tbody tr th:only-of-type {\n",
              "        vertical-align: middle;\n",
              "    }\n",
              "\n",
              "    .dataframe tbody tr th {\n",
              "        vertical-align: top;\n",
              "    }\n",
              "\n",
              "    .dataframe thead th {\n",
              "        text-align: right;\n",
              "    }\n",
              "</style>\n",
              "<table border=\"1\" class=\"dataframe\">\n",
              "  <thead>\n",
              "    <tr style=\"text-align: right;\">\n",
              "      <th></th>\n",
              "      <th>sepal_length</th>\n",
              "      <th>sepal_width</th>\n",
              "      <th>petal_length</th>\n",
              "      <th>petal_width</th>\n",
              "      <th>species</th>\n",
              "    </tr>\n",
              "  </thead>\n",
              "  <tbody>\n",
              "    <tr>\n",
              "      <th>0</th>\n",
              "      <td>5.1</td>\n",
              "      <td>3.5</td>\n",
              "      <td>1.4</td>\n",
              "      <td>0.2</td>\n",
              "      <td>Iris-setosa</td>\n",
              "    </tr>\n",
              "    <tr>\n",
              "      <th>1</th>\n",
              "      <td>4.9</td>\n",
              "      <td>3.0</td>\n",
              "      <td>1.4</td>\n",
              "      <td>0.2</td>\n",
              "      <td>Iris-setosa</td>\n",
              "    </tr>\n",
              "    <tr>\n",
              "      <th>2</th>\n",
              "      <td>4.7</td>\n",
              "      <td>3.2</td>\n",
              "      <td>1.3</td>\n",
              "      <td>0.2</td>\n",
              "      <td>Iris-setosa</td>\n",
              "    </tr>\n",
              "    <tr>\n",
              "      <th>3</th>\n",
              "      <td>4.6</td>\n",
              "      <td>3.1</td>\n",
              "      <td>1.5</td>\n",
              "      <td>0.2</td>\n",
              "      <td>Iris-setosa</td>\n",
              "    </tr>\n",
              "    <tr>\n",
              "      <th>4</th>\n",
              "      <td>5.0</td>\n",
              "      <td>3.6</td>\n",
              "      <td>1.4</td>\n",
              "      <td>0.2</td>\n",
              "      <td>Iris-setosa</td>\n",
              "    </tr>\n",
              "  </tbody>\n",
              "</table>\n",
              "</div>"
            ],
            "text/plain": [
              "   sepal_length  sepal_width  petal_length  petal_width      species\n",
              "0           5.1          3.5           1.4          0.2  Iris-setosa\n",
              "1           4.9          3.0           1.4          0.2  Iris-setosa\n",
              "2           4.7          3.2           1.3          0.2  Iris-setosa\n",
              "3           4.6          3.1           1.5          0.2  Iris-setosa\n",
              "4           5.0          3.6           1.4          0.2  Iris-setosa"
            ]
          },
          "metadata": {
            "tags": []
          },
          "execution_count": 3
        }
      ]
    },
    {
      "cell_type": "markdown",
      "metadata": {
        "id": "lfi1uHIxPdDe"
      },
      "source": [
        "## 2) Membagi data menjadi data latih dan data uji\n",
        "\n",
        "Metode pembelajaran mesin memerlukan dua jenis data :\n",
        "\n",
        "\n",
        "1.   Data latih : Digunakan untuk proses training metode klasifikasi\n",
        "2.   Data uji : Digunakan untuk proses evaluasi metode klasifikasi\n",
        "\n",
        "Data uji dan data latih perlu dibuat terpisah (mutualy exclusive) agar hasil evaluasi lebih akurat.\n",
        "\n",
        "Data uji dan data latih dapat dibuat dengan cara membagi dataset dengan rasio tertentu, misalnya 80% data latih dan 20% data uji.\n",
        "\n",
        "Library Scikit-learn memiliki fungsi [train_test_split](https://scikit-learn.org/stable/modules/generated/sklearn.model_selection.train_test_split.html) pada modul **model_selection** untuk membagi dataset menjadi data latih dan data uji. Bagilah dataset anda menjadi dua, yaitu **data_latih** dan **data_uji**.\n"
      ]
    },
    {
      "cell_type": "code",
      "metadata": {
        "id": "jJjfXgfmPTlU"
      },
      "source": [
        "from sklearn.model_selection import train_test_split \n",
        "data_latih,data_uji = train_test_split(data,test_size=0.2)"
      ],
      "execution_count": 4,
      "outputs": []
    },
    {
      "cell_type": "markdown",
      "metadata": {
        "id": "tBhcsUDYfw2q"
      },
      "source": [
        "Tampilkan banyaknya data pada **data_latih** dan **data_uji**. Seharusnya **data_latih** terdiri dari 120 data, dan **data_uji** terdiri dari 30 data"
      ]
    },
    {
      "cell_type": "code",
      "metadata": {
        "id": "6OtySD4efmmQ",
        "colab": {
          "base_uri": "https://localhost:8080/"
        },
        "outputId": "345d40f1-d433-40bc-a82e-21d8bbfea8e1"
      },
      "source": [
        "print(data_uji.shape[0]) \n",
        "print(data_latih.shape[0])"
      ],
      "execution_count": 5,
      "outputs": [
        {
          "output_type": "stream",
          "text": [
            "30\n",
            "120\n"
          ],
          "name": "stdout"
        }
      ]
    },
    {
      "cell_type": "markdown",
      "metadata": {
        "id": "wgTwVS4ofSj4"
      },
      "source": [
        "Pisahkan label/kelas dari data uji menjadi sebuah variabel bernama **label_uji**"
      ]
    },
    {
      "cell_type": "code",
      "metadata": {
        "id": "9h3Xynf-fcf5"
      },
      "source": [
        "label_uji = data_uji.pop('species')"
      ],
      "execution_count": 6,
      "outputs": []
    },
    {
      "cell_type": "markdown",
      "metadata": {
        "id": "ub4I9YOp-pWS"
      },
      "source": [
        "## 3) Pembentukan data latih one-vs-rest\n",
        "\n",
        "Metode one-vs-rest memerlukan tiga jenis data latih yang diperlukan untuk melatih tiga SVM yang berbeda pada dataset Iris. Fungsi **buat_trainingset** digunakan untuk membentuk tiga dataset tersebut."
      ]
    },
    {
      "cell_type": "code",
      "metadata": {
        "id": "Ovs_VYl9J7y_"
      },
      "source": [
        "#Punya kknya\n",
        "def buat_trainingset(dataset):\n",
        "    trainingset = {}\n",
        "    kolom_kelas = dataset.columns[-1]\n",
        "    list_kelas = dataset[kolom_kelas].unique()\n",
        "    print(kolom_kelas)\n",
        "    print(list_kelas)\n",
        "    for kelas in list_kelas:\n",
        "        data_temp = dataset.copy(deep=True)\n",
        "        data_temp[kolom_kelas]=data_temp[kolom_kelas].map({kelas:1})\n",
        "        data_temp[kolom_kelas]=data_temp[kolom_kelas].fillna(-1)\n",
        "        trainingset[kelas]=data_temp\n",
        "    return trainingset"
      ],
      "execution_count": 7,
      "outputs": []
    },
    {
      "cell_type": "markdown",
      "metadata": {
        "id": "OJOAgFQXJXa7"
      },
      "source": [
        "Gunakan fungsi **buat_trainingset** untuk membentuk data latih dengan nama variabel **trainingset** yang akan digunakan pada proses training. "
      ]
    },
    {
      "cell_type": "code",
      "metadata": {
        "id": "JKYH8PKq-sR1",
        "colab": {
          "base_uri": "https://localhost:8080/"
        },
        "outputId": "13d87bf8-d53b-4b13-8490-95381bb420f0"
      },
      "source": [
        "trainingset = buat_trainingset(data_latih)"
      ],
      "execution_count": 8,
      "outputs": [
        {
          "output_type": "stream",
          "text": [
            "species\n",
            "['Iris-virginica' 'Iris-versicolor' 'Iris-setosa']\n"
          ],
          "name": "stdout"
        }
      ]
    },
    {
      "cell_type": "markdown",
      "metadata": {
        "id": "ibORqyA-KOPh"
      },
      "source": [
        "Tampilkan isi **trainingset** agar Anda dapat memahami struktur dari variabel tersebut."
      ]
    },
    {
      "cell_type": "code",
      "metadata": {
        "id": "-g21oKqbKR4X",
        "colab": {
          "base_uri": "https://localhost:8080/"
        },
        "outputId": "13723e95-04e9-4732-ef8e-104cb3427955"
      },
      "source": [
        "print(trainingset)"
      ],
      "execution_count": 9,
      "outputs": [
        {
          "output_type": "stream",
          "text": [
            "{'Iris-virginica':      sepal_length  sepal_width  petal_length  petal_width  species\n",
            "130           7.4          2.8           6.1          1.9      1.0\n",
            "83            6.0          2.7           5.1          1.6     -1.0\n",
            "48            5.3          3.7           1.5          0.2     -1.0\n",
            "120           6.9          3.2           5.7          2.3      1.0\n",
            "41            4.5          2.3           1.3          0.3     -1.0\n",
            "..            ...          ...           ...          ...      ...\n",
            "107           7.3          2.9           6.3          1.8      1.0\n",
            "56            6.3          3.3           4.7          1.6     -1.0\n",
            "14            5.8          4.0           1.2          0.2     -1.0\n",
            "138           6.0          3.0           4.8          1.8      1.0\n",
            "90            5.5          2.6           4.4          1.2     -1.0\n",
            "\n",
            "[120 rows x 5 columns], 'Iris-versicolor':      sepal_length  sepal_width  petal_length  petal_width  species\n",
            "130           7.4          2.8           6.1          1.9     -1.0\n",
            "83            6.0          2.7           5.1          1.6      1.0\n",
            "48            5.3          3.7           1.5          0.2     -1.0\n",
            "120           6.9          3.2           5.7          2.3     -1.0\n",
            "41            4.5          2.3           1.3          0.3     -1.0\n",
            "..            ...          ...           ...          ...      ...\n",
            "107           7.3          2.9           6.3          1.8     -1.0\n",
            "56            6.3          3.3           4.7          1.6      1.0\n",
            "14            5.8          4.0           1.2          0.2     -1.0\n",
            "138           6.0          3.0           4.8          1.8     -1.0\n",
            "90            5.5          2.6           4.4          1.2      1.0\n",
            "\n",
            "[120 rows x 5 columns], 'Iris-setosa':      sepal_length  sepal_width  petal_length  petal_width  species\n",
            "130           7.4          2.8           6.1          1.9     -1.0\n",
            "83            6.0          2.7           5.1          1.6     -1.0\n",
            "48            5.3          3.7           1.5          0.2      1.0\n",
            "120           6.9          3.2           5.7          2.3     -1.0\n",
            "41            4.5          2.3           1.3          0.3      1.0\n",
            "..            ...          ...           ...          ...      ...\n",
            "107           7.3          2.9           6.3          1.8     -1.0\n",
            "56            6.3          3.3           4.7          1.6     -1.0\n",
            "14            5.8          4.0           1.2          0.2      1.0\n",
            "138           6.0          3.0           4.8          1.8     -1.0\n",
            "90            5.5          2.6           4.4          1.2     -1.0\n",
            "\n",
            "[120 rows x 5 columns]}\n"
          ],
          "name": "stdout"
        }
      ]
    },
    {
      "cell_type": "markdown",
      "metadata": {
        "id": "Ikiam_bv8sM1"
      },
      "source": [
        "## 4) Pembentukan SVM Biner"
      ]
    },
    {
      "cell_type": "markdown",
      "metadata": {
        "id": "t6-boIzy9UJ2"
      },
      "source": [
        "Tujuan dari algoritma SVM adalah meminimalkan nilai *cost function*. Penghitungan nilai minimal dapat dapat dilakukan dengan menghitung nilai gradien dari *cost function* terlebih dahulu. Fungsi di bawah ini berguna untuk menghitung nilai gradien cost function"
      ]
    },
    {
      "cell_type": "code",
      "metadata": {
        "id": "Kq63208e_7b0"
      },
      "source": [
        "def hitung_cost_gradient(W,X,Y,regularization): \n",
        "  jarak = 1 - (Y* np.dot(X,W)) \n",
        "  dw = np.zeros(len(W)) \n",
        "  if max(0,jarak)==0:\n",
        "    di=W \n",
        "  else: \n",
        "    di = W - (regularization * Y*X) \n",
        "  dw += di \n",
        "  return dw"
      ],
      "execution_count": 10,
      "outputs": []
    },
    {
      "cell_type": "markdown",
      "metadata": {
        "id": "sYGiwWxO9z1j"
      },
      "source": [
        "Terdapat beberapa cara untuk meminimalkan nilai *cost function*, salah satunya menggunakan Stochastic Gradient Descent (SGD) untuk melakukan minimasi. Minimasi *cost function* merupakan inti dari algoritma SVM. Fungsi di bawah ini merupakan implementasi algoritma SGD "
      ]
    },
    {
      "cell_type": "code",
      "metadata": {
        "id": "ERaoSW0kBCVA"
      },
      "source": [
        "from sklearn.utils import shuffle\n",
        "def sgd(data_latih,label_latih,learning_rate = 0.000001,max_epoch=1000,regularization=10000):\n",
        "  data_latih = data_latih.to_numpy()\n",
        "  label_latih = label_latih.to_numpy()\n",
        "  bobot = np.zeros(data_latih.shape[1])\n",
        "  for epoch in range(1,max_epoch):\n",
        "    X,Y =shuffle(data_latih,label_latih,random_state=101)\n",
        "    for index,x in enumerate(X):\n",
        "      delta=hitung_cost_gradient(bobot,x,Y[index],regularization)\n",
        "      bobot = bobot - (learning_rate * delta)\n",
        "  return bobot"
      ],
      "execution_count": 11,
      "outputs": []
    },
    {
      "cell_type": "markdown",
      "metadata": {
        "id": "e0mWl4NsNsLr"
      },
      "source": [
        "## 5) Proses Training"
      ]
    },
    {
      "cell_type": "markdown",
      "metadata": {
        "id": "FaTWcv7dAu7t"
      },
      "source": [
        "Proses training dilakukan dengan memanggil fungsi **sgd** berulang kali sesuai banyaknya kelas yang ada pada data. Dengan demikian, proses training menghasilkan bobot sebanyak kelas yang ada pada dataset. Buatlah fungsi bernama **training** yang digunakan untuk melakukan proses training one-vs-rest"
      ]
    },
    {
      "cell_type": "code",
      "metadata": {
        "id": "UJpA36VtJ2FI"
      },
      "source": [
        "#PUnya kk nya\n",
        "def training(trainingset):\n",
        "    list_kelas = trainingset.keys()\n",
        "    w = {}\n",
        "    for kelas in list_kelas:\n",
        "        data_latih = trainingset[kelas]\n",
        "        label_latih = data_latih.pop(data_latih.columns[-1])\n",
        "        w[kelas] = sgd(data_latih,label_latih)\n",
        "    return w"
      ],
      "execution_count": 12,
      "outputs": []
    },
    {
      "cell_type": "markdown",
      "metadata": {
        "id": "pLiw-ZCVPy6J"
      },
      "source": [
        "Lakukan proses training dengan memanggil fungsi **training** dan menempatkan hasilnya pada variabel **W**"
      ]
    },
    {
      "cell_type": "code",
      "metadata": {
        "id": "cxO4ztvWGFlb"
      },
      "source": [
        "W = training(trainingset)"
      ],
      "execution_count": 13,
      "outputs": []
    },
    {
      "cell_type": "markdown",
      "metadata": {
        "id": "Utg8hqFdQJDe"
      },
      "source": [
        "Tampilkan isi variabel **W**"
      ]
    },
    {
      "cell_type": "code",
      "metadata": {
        "id": "okhxKfw9C31G",
        "colab": {
          "base_uri": "https://localhost:8080/"
        },
        "outputId": "05fa9ec0-e13e-4664-f939-b2c4b51eb30f"
      },
      "source": [
        "print(W)"
      ],
      "execution_count": 14,
      "outputs": [
        {
          "output_type": "stream",
          "text": [
            "{'Iris-virginica': array([-3.49077995, -2.79113352,  3.60970411,  7.66156938]), 'Iris-versicolor': array([ 1.10840481, -2.65677156,  1.26955525, -4.16679401]), 'Iris-setosa': array([ 0.23728644,  0.70398359, -1.12765101, -0.53733896])}\n"
          ],
          "name": "stdout"
        }
      ]
    },
    {
      "cell_type": "code",
      "metadata": {
        "colab": {
          "base_uri": "https://localhost:8080/"
        },
        "id": "-7FFV_e1A-es",
        "outputId": "0525aa82-8075-4751-e3fd-b7a091f8da1e"
      },
      "source": [
        "W"
      ],
      "execution_count": 15,
      "outputs": [
        {
          "output_type": "execute_result",
          "data": {
            "text/plain": [
              "{'Iris-setosa': array([ 0.23728644,  0.70398359, -1.12765101, -0.53733896]),\n",
              " 'Iris-versicolor': array([ 1.10840481, -2.65677156,  1.26955525, -4.16679401]),\n",
              " 'Iris-virginica': array([-3.49077995, -2.79113352,  3.60970411,  7.66156938])}"
            ]
          },
          "metadata": {
            "tags": []
          },
          "execution_count": 15
        }
      ]
    },
    {
      "cell_type": "code",
      "metadata": {
        "colab": {
          "base_uri": "https://localhost:8080/"
        },
        "id": "uwvmWN3rbi3p",
        "outputId": "40a41744-72d5-4899-d576-73693cf5ede9"
      },
      "source": [
        "W.keys()"
      ],
      "execution_count": 17,
      "outputs": [
        {
          "output_type": "execute_result",
          "data": {
            "text/plain": [
              "dict_keys(['Iris-virginica', 'Iris-versicolor', 'Iris-setosa'])"
            ]
          },
          "metadata": {
            "tags": []
          },
          "execution_count": 17
        }
      ]
    },
    {
      "cell_type": "markdown",
      "metadata": {
        "id": "M6UR7tpm1YQ_"
      },
      "source": [
        "## 6) Proses *testing* biner\n",
        "Proses testing dilakukan dengan menghitung nilai [*dot product*](https://en.wikipedia.org/wiki/Dot_product) antara bobot hasil training dengan data uji. Kelas data ditentukan berdasarkan tanda (positif atau negatif) dari hasil dot product tersebut. Fungsi berikut mengimplementasikan proses testing"
      ]
    },
    {
      "cell_type": "code",
      "metadata": {
        "id": "-pxX9OMOJu9G"
      },
      "source": [
        "#Punya kknya\n",
        "#testing biner\n",
        "def testing(W,data_uji):\n",
        "    prediksi = np.array([])\n",
        "    for i in range(data_uji.shape[0]):\n",
        "        y_prediksi = np.sign(np.dot(W,data_uji.to_numpy()[i]))\n",
        "        prediksi = np.append(prediksi,y_prediksi)\n",
        "    return prediksi"
      ],
      "execution_count": 16,
      "outputs": []
    },
    {
      "cell_type": "markdown",
      "metadata": {
        "id": "ZiDmUxVBuo42"
      },
      "source": [
        "## TUGAS\n",
        "Pada tugas kali ini Anda mendefinisikan proses testing pada metode one-vs-rest. Proses testing pada metode one-vs-rest dilakukan dengan memanggil proses testing biner untuk setiap **value** pada dictionary **W**. Kelas pada sebuah data latih adalah **key** pada dictionary **W** yang memiliki nilai prediksi **1**. Lengkapi fungsi **testing_onevsrest** di bawah ini. Output dari fungsi tersebut adalah list nama kelas hasil prediksi."
      ]
    },
    {
      "cell_type": "code",
      "metadata": {
        "id": "yVQ5YesFGLH5"
      },
      "source": [
        "def testing_onevsrest(W,data_uji):\n",
        "  #tulis kode Anda di sini.\n",
        "  list_kelas = W.keys() #mengambil nama - nama setiap class \n",
        "  result = pd.DataFrame(columns = list_kelas) #Membuat frame baru dengan nama class tersebut\n",
        "  \n",
        "  for kelas in list_kelas :\n",
        "    result[kelas] = testing(W[kelas], data_uji)\n",
        "    #Menggunakan proses testing biner untuk menghitung nilai W di setiap class dalam data uji\n",
        "  \n",
        "  kelas_prediksi = result.idxmax(1) #key pada dict w yang memiliki nilai prediksi 1\n",
        "  return kelas_prediksi"
      ],
      "execution_count": 39,
      "outputs": []
    },
    {
      "cell_type": "code",
      "metadata": {
        "colab": {
          "base_uri": "https://localhost:8080/"
        },
        "id": "v7cybbGFfzOv",
        "outputId": "8b5f70cc-f3a1-4d79-bcd8-7d0058dda122"
      },
      "source": [
        "W"
      ],
      "execution_count": 44,
      "outputs": [
        {
          "output_type": "execute_result",
          "data": {
            "text/plain": [
              "{'Iris-setosa': array([ 0.23728644,  0.70398359, -1.12765101, -0.53733896]),\n",
              " 'Iris-versicolor': array([ 1.10840481, -2.65677156,  1.26955525, -4.16679401]),\n",
              " 'Iris-virginica': array([-3.49077995, -2.79113352,  3.60970411,  7.66156938])}"
            ]
          },
          "metadata": {
            "tags": []
          },
          "execution_count": 44
        }
      ]
    },
    {
      "cell_type": "code",
      "metadata": {
        "id": "gG4hTpFjiGqo"
      },
      "source": [
        "prediksi = testing_onevsrest(W,data_uji)"
      ],
      "execution_count": 40,
      "outputs": []
    },
    {
      "cell_type": "code",
      "metadata": {
        "colab": {
          "base_uri": "https://localhost:8080/"
        },
        "id": "_SwYUf1JfB-F",
        "outputId": "20a6b00d-f503-43e8-a137-b5576a3bb05e"
      },
      "source": [
        "prediksi"
      ],
      "execution_count": 41,
      "outputs": [
        {
          "output_type": "execute_result",
          "data": {
            "text/plain": [
              "0      Iris-virginica\n",
              "1      Iris-virginica\n",
              "2         Iris-setosa\n",
              "3         Iris-setosa\n",
              "4      Iris-virginica\n",
              "5     Iris-versicolor\n",
              "6         Iris-setosa\n",
              "7      Iris-virginica\n",
              "8      Iris-virginica\n",
              "9      Iris-virginica\n",
              "10        Iris-setosa\n",
              "11     Iris-virginica\n",
              "12    Iris-versicolor\n",
              "13        Iris-setosa\n",
              "14     Iris-virginica\n",
              "15     Iris-virginica\n",
              "16        Iris-setosa\n",
              "17     Iris-virginica\n",
              "18        Iris-setosa\n",
              "19        Iris-setosa\n",
              "20     Iris-virginica\n",
              "21     Iris-virginica\n",
              "22        Iris-setosa\n",
              "23     Iris-virginica\n",
              "24     Iris-virginica\n",
              "25        Iris-setosa\n",
              "26     Iris-virginica\n",
              "27     Iris-virginica\n",
              "28        Iris-setosa\n",
              "29     Iris-virginica\n",
              "dtype: object"
            ]
          },
          "metadata": {
            "tags": []
          },
          "execution_count": 41
        }
      ]
    },
    {
      "cell_type": "markdown",
      "metadata": {
        "id": "wBeuhb2Vmimg"
      },
      "source": [
        "Berapa banyak data latih yang berhasil diprediksi dengan benar?"
      ]
    },
    {
      "cell_type": "code",
      "metadata": {
        "id": "0gAyDrOVjxVU"
      },
      "source": [
        "prediction = prediksi.to_numpy()"
      ],
      "execution_count": 42,
      "outputs": []
    },
    {
      "cell_type": "code",
      "metadata": {
        "id": "4ZSkRsaqixgL",
        "colab": {
          "base_uri": "https://localhost:8080/"
        },
        "outputId": "8517d351-10cb-4400-b953-03debe49a21c"
      },
      "source": [
        "akurasi_prediksi = (sum(prediction==label_uji)/data_uji.shape[0])*100\n",
        "\n",
        "print(\"Total data :\", data_uji.shape[0])\n",
        "print(\"Total prediksi benar :\", sum(prediction==label_uji))\n",
        "print(\"Accuracy :\", akurasi_prediksi, \"%\")"
      ],
      "execution_count": 43,
      "outputs": [
        {
          "output_type": "stream",
          "text": [
            "Total data : 30\n",
            "Total prediksi benar : 22\n",
            "Accuracy : 73.33333333333333 %\n"
          ],
          "name": "stdout"
        }
      ]
    }
  ]
}