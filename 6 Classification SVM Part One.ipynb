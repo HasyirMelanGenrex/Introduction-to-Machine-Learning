{
  "cells": [
    {
      "cell_type": "markdown",
      "metadata": {
        "id": "sQAGcnK3MOS7"
      },
      "source": [
        "### 1) Import Data\n",
        "\n",
        "Unduh dataset yang akan digunakan pada praktikum kali ini. Anda dapat menggunakan aplikasi wget untuk mendowload dataset dan menyimpannya dalam Google Colab. Jalankan cell di bawah ini untuk mengunduh dataset"
      ]
    },
    {
      "cell_type": "code",
      "execution_count": 1,
      "metadata": {
        "colab": {
          "base_uri": "https://localhost:8080/"
        },
        "id": "FpjqVlzBMNLd",
        "outputId": "2bbc03f2-6824-4811-95f4-46bcd8ea6adc"
      },
      "outputs": [
        {
          "name": "stdout",
          "output_type": "stream",
          "text": [
            "--2021-04-19 02:47:28--  https://dataset-ppm.s3.amazonaws.com/iris.csv\n",
            "Resolving dataset-ppm.s3.amazonaws.com (dataset-ppm.s3.amazonaws.com)... 52.217.100.204\n",
            "Connecting to dataset-ppm.s3.amazonaws.com (dataset-ppm.s3.amazonaws.com)|52.217.100.204|:443... connected.\n",
            "HTTP request sent, awaiting response... 200 OK\n",
            "Length: 4609 (4.5K) [text/csv]\n",
            "Saving to: ‘iris.csv’\n",
            "\n",
            "\riris.csv              0%[                    ]       0  --.-KB/s               \riris.csv            100%[===================>]   4.50K  --.-KB/s    in 0s      \n",
            "\n",
            "2021-04-19 02:47:28 (142 MB/s) - ‘iris.csv’ saved [4609/4609]\n",
            "\n"
          ]
        }
      ],
      "source": [
        "!wget https://dataset-ppm.s3.amazonaws.com/iris.csv"
      ]
    },
    {
      "cell_type": "markdown",
      "metadata": {
        "id": "SJy4t3lIOgGp"
      },
      "source": [
        "Setelah dataset berhasil diunduh, langkah berikutnya adalah membaca dataset dengan memanfaatkan fungsi **readcsv** dari library pandas. Lakukan pembacaan berkas csv ke dalam dataframe dengan nama **data** menggunakan fungsi **readcsv**. Jangan lupa untuk melakukan import library pandas terlebih dahulu\n"
      ]
    },
    {
      "cell_type": "code",
      "execution_count": 2,
      "metadata": {
        "id": "mdhbxk_2OzbB"
      },
      "outputs": [],
      "source": [
        "import pandas as pd \n",
        "import numpy as np \n",
        "data = pd.read_csv('iris.csv')"
      ]
    },
    {
      "cell_type": "markdown",
      "metadata": {
        "id": "w6NfrIDTOK38"
      },
      "source": [
        "\n",
        "\n",
        "Cek isi dataset Anda dengan menggunakan perintah **head()**"
      ]
    },
    {
      "cell_type": "code",
      "execution_count": 3,
      "metadata": {
        "colab": {
          "base_uri": "https://localhost:8080/",
          "height": 0
        },
        "id": "Uaiaj796OFH3",
        "outputId": "8cea941d-27e0-453a-d6be-fae2b6f01e39"
      },
      "outputs": [
        {
          "data": {
            "text/html": [
              "<div>\n",
              "<style scoped>\n",
              "    .dataframe tbody tr th:only-of-type {\n",
              "        vertical-align: middle;\n",
              "    }\n",
              "\n",
              "    .dataframe tbody tr th {\n",
              "        vertical-align: top;\n",
              "    }\n",
              "\n",
              "    .dataframe thead th {\n",
              "        text-align: right;\n",
              "    }\n",
              "</style>\n",
              "<table border=\"1\" class=\"dataframe\">\n",
              "  <thead>\n",
              "    <tr style=\"text-align: right;\">\n",
              "      <th></th>\n",
              "      <th>sepal_length</th>\n",
              "      <th>sepal_width</th>\n",
              "      <th>petal_length</th>\n",
              "      <th>petal_width</th>\n",
              "      <th>species</th>\n",
              "    </tr>\n",
              "  </thead>\n",
              "  <tbody>\n",
              "    <tr>\n",
              "      <th>0</th>\n",
              "      <td>5.1</td>\n",
              "      <td>3.5</td>\n",
              "      <td>1.4</td>\n",
              "      <td>0.2</td>\n",
              "      <td>Iris-setosa</td>\n",
              "    </tr>\n",
              "    <tr>\n",
              "      <th>1</th>\n",
              "      <td>4.9</td>\n",
              "      <td>3.0</td>\n",
              "      <td>1.4</td>\n",
              "      <td>0.2</td>\n",
              "      <td>Iris-setosa</td>\n",
              "    </tr>\n",
              "    <tr>\n",
              "      <th>2</th>\n",
              "      <td>4.7</td>\n",
              "      <td>3.2</td>\n",
              "      <td>1.3</td>\n",
              "      <td>0.2</td>\n",
              "      <td>Iris-setosa</td>\n",
              "    </tr>\n",
              "    <tr>\n",
              "      <th>3</th>\n",
              "      <td>4.6</td>\n",
              "      <td>3.1</td>\n",
              "      <td>1.5</td>\n",
              "      <td>0.2</td>\n",
              "      <td>Iris-setosa</td>\n",
              "    </tr>\n",
              "    <tr>\n",
              "      <th>4</th>\n",
              "      <td>5.0</td>\n",
              "      <td>3.6</td>\n",
              "      <td>1.4</td>\n",
              "      <td>0.2</td>\n",
              "      <td>Iris-setosa</td>\n",
              "    </tr>\n",
              "  </tbody>\n",
              "</table>\n",
              "</div>"
            ],
            "text/plain": [
              "   sepal_length  sepal_width  petal_length  petal_width      species\n",
              "0           5.1          3.5           1.4          0.2  Iris-setosa\n",
              "1           4.9          3.0           1.4          0.2  Iris-setosa\n",
              "2           4.7          3.2           1.3          0.2  Iris-setosa\n",
              "3           4.6          3.1           1.5          0.2  Iris-setosa\n",
              "4           5.0          3.6           1.4          0.2  Iris-setosa"
            ]
          },
          "execution_count": 3,
          "metadata": {
            "tags": []
          },
          "output_type": "execute_result"
        }
      ],
      "source": [
        "data.head()"
      ]
    },
    {
      "cell_type": "markdown",
      "metadata": {
        "id": "1bGmXPhp3jyJ"
      },
      "source": [
        "Metode Support Vector Machine (SVM) dasar hanya mampu melakukan klasifikasi data yang terdiri dari dua kelas, atau disebut klasifikasi biner. Dataset iris memiliki 3 kelas, sehingga salah satu kelasnya, yaitu Iris-virginica perlu dihapus. Cell berikut menghapus data yang memiliki kelas Iris-virginica"
      ]
    },
    {
      "cell_type": "code",
      "execution_count": 4,
      "metadata": {
        "id": "aQ1x8hpw6jPL"
      },
      "outputs": [],
      "source": [
        "data.drop(data[data['species']=='Iris-virginica'].index,inplace=True)"
      ]
    },
    {
      "cell_type": "code",
      "execution_count": 5,
      "metadata": {
        "colab": {
          "base_uri": "https://localhost:8080/",
          "height": 0
        },
        "id": "X2paqREf2Uiq",
        "outputId": "5940d06d-a15e-4e04-838c-298b880cad7e"
      },
      "outputs": [
        {
          "data": {
            "text/html": [
              "<div>\n",
              "<style scoped>\n",
              "    .dataframe tbody tr th:only-of-type {\n",
              "        vertical-align: middle;\n",
              "    }\n",
              "\n",
              "    .dataframe tbody tr th {\n",
              "        vertical-align: top;\n",
              "    }\n",
              "\n",
              "    .dataframe thead th {\n",
              "        text-align: right;\n",
              "    }\n",
              "</style>\n",
              "<table border=\"1\" class=\"dataframe\">\n",
              "  <thead>\n",
              "    <tr style=\"text-align: right;\">\n",
              "      <th></th>\n",
              "      <th>sepal_length</th>\n",
              "      <th>sepal_width</th>\n",
              "      <th>petal_length</th>\n",
              "      <th>petal_width</th>\n",
              "      <th>species</th>\n",
              "    </tr>\n",
              "  </thead>\n",
              "  <tbody>\n",
              "    <tr>\n",
              "      <th>0</th>\n",
              "      <td>5.1</td>\n",
              "      <td>3.5</td>\n",
              "      <td>1.4</td>\n",
              "      <td>0.2</td>\n",
              "      <td>Iris-setosa</td>\n",
              "    </tr>\n",
              "    <tr>\n",
              "      <th>1</th>\n",
              "      <td>4.9</td>\n",
              "      <td>3.0</td>\n",
              "      <td>1.4</td>\n",
              "      <td>0.2</td>\n",
              "      <td>Iris-setosa</td>\n",
              "    </tr>\n",
              "    <tr>\n",
              "      <th>2</th>\n",
              "      <td>4.7</td>\n",
              "      <td>3.2</td>\n",
              "      <td>1.3</td>\n",
              "      <td>0.2</td>\n",
              "      <td>Iris-setosa</td>\n",
              "    </tr>\n",
              "    <tr>\n",
              "      <th>3</th>\n",
              "      <td>4.6</td>\n",
              "      <td>3.1</td>\n",
              "      <td>1.5</td>\n",
              "      <td>0.2</td>\n",
              "      <td>Iris-setosa</td>\n",
              "    </tr>\n",
              "    <tr>\n",
              "      <th>4</th>\n",
              "      <td>5.0</td>\n",
              "      <td>3.6</td>\n",
              "      <td>1.4</td>\n",
              "      <td>0.2</td>\n",
              "      <td>Iris-setosa</td>\n",
              "    </tr>\n",
              "  </tbody>\n",
              "</table>\n",
              "</div>"
            ],
            "text/plain": [
              "   sepal_length  sepal_width  petal_length  petal_width      species\n",
              "0           5.1          3.5           1.4          0.2  Iris-setosa\n",
              "1           4.9          3.0           1.4          0.2  Iris-setosa\n",
              "2           4.7          3.2           1.3          0.2  Iris-setosa\n",
              "3           4.6          3.1           1.5          0.2  Iris-setosa\n",
              "4           5.0          3.6           1.4          0.2  Iris-setosa"
            ]
          },
          "execution_count": 5,
          "metadata": {
            "tags": []
          },
          "output_type": "execute_result"
        }
      ],
      "source": [
        "data.head()"
      ]
    },
    {
      "cell_type": "markdown",
      "metadata": {
        "id": "eXtCsi_V4IeW"
      },
      "source": [
        "SVM juga memiliki keterbatasan, yaitu hanya mampu menerima kelas dalam bentuk numerik. Cell berikut mengubah kelas menjadi bilangan, Iris setosa menjadi -1 dan Iris-versicolor menjadi 1"
      ]
    },
    {
      "cell_type": "code",
      "execution_count": 6,
      "metadata": {
        "id": "H0rs8c7X-aXt"
      },
      "outputs": [],
      "source": [
        "data['species']=data['species'].map({'Iris-setosa':-1,'Iris-versicolor':1})"
      ]
    },
    {
      "cell_type": "markdown",
      "metadata": {
        "id": "rA6SQgWW4w0X"
      },
      "source": [
        "Tampilkan beberapa data untuk mengecek hasilnya"
      ]
    },
    {
      "cell_type": "code",
      "execution_count": 7,
      "metadata": {
        "colab": {
          "base_uri": "https://localhost:8080/",
          "height": 0
        },
        "id": "lZ6X4oeM8Bmo",
        "outputId": "f6deac92-237f-4093-f9cf-0919c1191ee4"
      },
      "outputs": [
        {
          "data": {
            "text/html": [
              "<div>\n",
              "<style scoped>\n",
              "    .dataframe tbody tr th:only-of-type {\n",
              "        vertical-align: middle;\n",
              "    }\n",
              "\n",
              "    .dataframe tbody tr th {\n",
              "        vertical-align: top;\n",
              "    }\n",
              "\n",
              "    .dataframe thead th {\n",
              "        text-align: right;\n",
              "    }\n",
              "</style>\n",
              "<table border=\"1\" class=\"dataframe\">\n",
              "  <thead>\n",
              "    <tr style=\"text-align: right;\">\n",
              "      <th></th>\n",
              "      <th>sepal_length</th>\n",
              "      <th>sepal_width</th>\n",
              "      <th>petal_length</th>\n",
              "      <th>petal_width</th>\n",
              "      <th>species</th>\n",
              "    </tr>\n",
              "  </thead>\n",
              "  <tbody>\n",
              "    <tr>\n",
              "      <th>0</th>\n",
              "      <td>5.1</td>\n",
              "      <td>3.5</td>\n",
              "      <td>1.4</td>\n",
              "      <td>0.2</td>\n",
              "      <td>-1</td>\n",
              "    </tr>\n",
              "    <tr>\n",
              "      <th>1</th>\n",
              "      <td>4.9</td>\n",
              "      <td>3.0</td>\n",
              "      <td>1.4</td>\n",
              "      <td>0.2</td>\n",
              "      <td>-1</td>\n",
              "    </tr>\n",
              "    <tr>\n",
              "      <th>2</th>\n",
              "      <td>4.7</td>\n",
              "      <td>3.2</td>\n",
              "      <td>1.3</td>\n",
              "      <td>0.2</td>\n",
              "      <td>-1</td>\n",
              "    </tr>\n",
              "    <tr>\n",
              "      <th>3</th>\n",
              "      <td>4.6</td>\n",
              "      <td>3.1</td>\n",
              "      <td>1.5</td>\n",
              "      <td>0.2</td>\n",
              "      <td>-1</td>\n",
              "    </tr>\n",
              "    <tr>\n",
              "      <th>4</th>\n",
              "      <td>5.0</td>\n",
              "      <td>3.6</td>\n",
              "      <td>1.4</td>\n",
              "      <td>0.2</td>\n",
              "      <td>-1</td>\n",
              "    </tr>\n",
              "  </tbody>\n",
              "</table>\n",
              "</div>"
            ],
            "text/plain": [
              "   sepal_length  sepal_width  petal_length  petal_width  species\n",
              "0           5.1          3.5           1.4          0.2       -1\n",
              "1           4.9          3.0           1.4          0.2       -1\n",
              "2           4.7          3.2           1.3          0.2       -1\n",
              "3           4.6          3.1           1.5          0.2       -1\n",
              "4           5.0          3.6           1.4          0.2       -1"
            ]
          },
          "execution_count": 7,
          "metadata": {
            "tags": []
          },
          "output_type": "execute_result"
        }
      ],
      "source": [
        "data.head()"
      ]
    },
    {
      "cell_type": "code",
      "execution_count": 8,
      "metadata": {
        "colab": {
          "base_uri": "https://localhost:8080/",
          "height": 0
        },
        "id": "LDl6YZKT2bjj",
        "outputId": "88498c5f-cb62-4bed-b340-c71f07bc807a"
      },
      "outputs": [
        {
          "data": {
            "text/html": [
              "<div>\n",
              "<style scoped>\n",
              "    .dataframe tbody tr th:only-of-type {\n",
              "        vertical-align: middle;\n",
              "    }\n",
              "\n",
              "    .dataframe tbody tr th {\n",
              "        vertical-align: top;\n",
              "    }\n",
              "\n",
              "    .dataframe thead th {\n",
              "        text-align: right;\n",
              "    }\n",
              "</style>\n",
              "<table border=\"1\" class=\"dataframe\">\n",
              "  <thead>\n",
              "    <tr style=\"text-align: right;\">\n",
              "      <th></th>\n",
              "      <th>sepal_length</th>\n",
              "      <th>sepal_width</th>\n",
              "      <th>petal_length</th>\n",
              "      <th>petal_width</th>\n",
              "      <th>species</th>\n",
              "    </tr>\n",
              "  </thead>\n",
              "  <tbody>\n",
              "    <tr>\n",
              "      <th>0</th>\n",
              "      <td>5.1</td>\n",
              "      <td>3.5</td>\n",
              "      <td>1.4</td>\n",
              "      <td>0.2</td>\n",
              "      <td>-1</td>\n",
              "    </tr>\n",
              "    <tr>\n",
              "      <th>1</th>\n",
              "      <td>4.9</td>\n",
              "      <td>3.0</td>\n",
              "      <td>1.4</td>\n",
              "      <td>0.2</td>\n",
              "      <td>-1</td>\n",
              "    </tr>\n",
              "    <tr>\n",
              "      <th>2</th>\n",
              "      <td>4.7</td>\n",
              "      <td>3.2</td>\n",
              "      <td>1.3</td>\n",
              "      <td>0.2</td>\n",
              "      <td>-1</td>\n",
              "    </tr>\n",
              "    <tr>\n",
              "      <th>3</th>\n",
              "      <td>4.6</td>\n",
              "      <td>3.1</td>\n",
              "      <td>1.5</td>\n",
              "      <td>0.2</td>\n",
              "      <td>-1</td>\n",
              "    </tr>\n",
              "    <tr>\n",
              "      <th>4</th>\n",
              "      <td>5.0</td>\n",
              "      <td>3.6</td>\n",
              "      <td>1.4</td>\n",
              "      <td>0.2</td>\n",
              "      <td>-1</td>\n",
              "    </tr>\n",
              "    <tr>\n",
              "      <th>...</th>\n",
              "      <td>...</td>\n",
              "      <td>...</td>\n",
              "      <td>...</td>\n",
              "      <td>...</td>\n",
              "      <td>...</td>\n",
              "    </tr>\n",
              "    <tr>\n",
              "      <th>95</th>\n",
              "      <td>5.7</td>\n",
              "      <td>3.0</td>\n",
              "      <td>4.2</td>\n",
              "      <td>1.2</td>\n",
              "      <td>1</td>\n",
              "    </tr>\n",
              "    <tr>\n",
              "      <th>96</th>\n",
              "      <td>5.7</td>\n",
              "      <td>2.9</td>\n",
              "      <td>4.2</td>\n",
              "      <td>1.3</td>\n",
              "      <td>1</td>\n",
              "    </tr>\n",
              "    <tr>\n",
              "      <th>97</th>\n",
              "      <td>6.2</td>\n",
              "      <td>2.9</td>\n",
              "      <td>4.3</td>\n",
              "      <td>1.3</td>\n",
              "      <td>1</td>\n",
              "    </tr>\n",
              "    <tr>\n",
              "      <th>98</th>\n",
              "      <td>5.1</td>\n",
              "      <td>2.5</td>\n",
              "      <td>3.0</td>\n",
              "      <td>1.1</td>\n",
              "      <td>1</td>\n",
              "    </tr>\n",
              "    <tr>\n",
              "      <th>99</th>\n",
              "      <td>5.7</td>\n",
              "      <td>2.8</td>\n",
              "      <td>4.1</td>\n",
              "      <td>1.3</td>\n",
              "      <td>1</td>\n",
              "    </tr>\n",
              "  </tbody>\n",
              "</table>\n",
              "<p>100 rows × 5 columns</p>\n",
              "</div>"
            ],
            "text/plain": [
              "    sepal_length  sepal_width  petal_length  petal_width  species\n",
              "0            5.1          3.5           1.4          0.2       -1\n",
              "1            4.9          3.0           1.4          0.2       -1\n",
              "2            4.7          3.2           1.3          0.2       -1\n",
              "3            4.6          3.1           1.5          0.2       -1\n",
              "4            5.0          3.6           1.4          0.2       -1\n",
              "..           ...          ...           ...          ...      ...\n",
              "95           5.7          3.0           4.2          1.2        1\n",
              "96           5.7          2.9           4.2          1.3        1\n",
              "97           6.2          2.9           4.3          1.3        1\n",
              "98           5.1          2.5           3.0          1.1        1\n",
              "99           5.7          2.8           4.1          1.3        1\n",
              "\n",
              "[100 rows x 5 columns]"
            ]
          },
          "execution_count": 8,
          "metadata": {
            "tags": []
          },
          "output_type": "execute_result"
        }
      ],
      "source": [
        "data"
      ]
    },
    {
      "cell_type": "markdown",
      "metadata": {
        "id": "lfi1uHIxPdDe"
      },
      "source": [
        "## 2) Membagi data menjadi data latih dan data uji\n",
        "\n",
        "Metode pembelajaran mesin memerlukan dua jenis data :\n",
        "\n",
        "\n",
        "1.   Data latih : Digunakan untuk proses training metode klasifikasi\n",
        "2.   Data uji : Digunakan untuk proses evaluasi metode klasifikasi\n",
        "\n",
        "Data uji dan data latih perlu dibuat terpisah (mutualy exclusive) agar hasil evaluasi lebih akurat.\n",
        "\n",
        "Data uji dan data latih dapat dibuat dengan cara membagi dataset dengan rasio tertentu, misalnya 80% data latih dan 20% data uji.\n",
        "\n",
        "Library Scikit-learn memiliki fungsi [train_test_split](https://scikit-learn.org/stable/modules/generated/sklearn.model_selection.train_test_split.html) pada modul **model_selection** untuk membagi dataset menjadi data latih dan data uji. Bagilah dataset anda menjadi dua, yaitu **data_latih** dan **data_uji**.\n"
      ]
    },
    {
      "cell_type": "code",
      "execution_count": 9,
      "metadata": {
        "id": "jJjfXgfmPTlU"
      },
      "outputs": [],
      "source": [
        "from sklearn.model_selection import train_test_split \n",
        "data_latih,data_uji = train_test_split(data,test_size=0.2)"
      ]
    },
    {
      "cell_type": "markdown",
      "metadata": {
        "id": "tBhcsUDYfw2q"
      },
      "source": [
        "Tampilkan banyaknya data pada **data_latih** dan **data_uji**. Seharusnya **data_latih** terdiri dari 80 data, dan **data_uji** terdiri dari 20 data"
      ]
    },
    {
      "cell_type": "code",
      "execution_count": 10,
      "metadata": {
        "colab": {
          "base_uri": "https://localhost:8080/"
        },
        "id": "6OtySD4efmmQ",
        "outputId": "a4739df5-54e7-4a41-b366-e47424f7ee9e"
      },
      "outputs": [
        {
          "name": "stdout",
          "output_type": "stream",
          "text": [
            "20\n",
            "80\n"
          ]
        }
      ],
      "source": [
        "print(data_uji.shape[0])\n",
        "print(data_latih.shape[0])"
      ]
    },
    {
      "cell_type": "markdown",
      "metadata": {
        "id": "DeU-FCyTkVKC"
      },
      "source": [
        "Pisahkan label/kategori dari data latih dan data uji menjadi variabel tersendiri. Beri nama variabelnya  **label_latih** dan **label_uji**"
      ]
    },
    {
      "cell_type": "code",
      "execution_count": 11,
      "metadata": {
        "id": "e4vC_M0mkkl3"
      },
      "outputs": [],
      "source": [
        "label_latih = data_latih.pop('species') \n",
        "label_uji = data_uji.pop('species')"
      ]
    },
    {
      "cell_type": "code",
      "execution_count": 12,
      "metadata": {
        "colab": {
          "base_uri": "https://localhost:8080/"
        },
        "id": "-B1RxWOeDKea",
        "outputId": "f412d21b-7eec-474f-a3a2-cd57c981f27e"
      },
      "outputs": [
        {
          "name": "stdout",
          "output_type": "stream",
          "text": [
            "71    1\n",
            "97    1\n",
            "0    -1\n",
            "51    1\n",
            "65    1\n",
            "     ..\n",
            "42   -1\n",
            "36   -1\n",
            "6    -1\n",
            "90    1\n",
            "48   -1\n",
            "Name: species, Length: 80, dtype: int64\n",
            "41   -1\n",
            "26   -1\n",
            "53    1\n",
            "57    1\n",
            "47   -1\n",
            "44   -1\n",
            "78    1\n",
            "77    1\n",
            "93    1\n",
            "72    1\n",
            "1    -1\n",
            "33   -1\n",
            "94    1\n",
            "24   -1\n",
            "64    1\n",
            "10   -1\n",
            "43   -1\n",
            "81    1\n",
            "58    1\n",
            "25   -1\n",
            "Name: species, dtype: int64\n"
          ]
        }
      ],
      "source": [
        "print(label_latih)\n",
        "print(label_uji)"
      ]
    },
    {
      "cell_type": "markdown",
      "metadata": {
        "id": "Ikiam_bv8sM1"
      },
      "source": [
        "## 3) Proses Training"
      ]
    },
    {
      "cell_type": "markdown",
      "metadata": {
        "id": "t6-boIzy9UJ2"
      },
      "source": [
        "Tujuan dari algoritma SVM adalah meminimalkan nilai *cost function*. Penghitungan nilai minimal dapat dapat dilakukan dengan menghitung nilai gradien dari *cost function* terlebih dahulu. Fungsi di bawah ini berguna untuk menghitung nilai gradien cost function"
      ]
    },
    {
      "cell_type": "code",
      "execution_count": 13,
      "metadata": {
        "id": "Kq63208e_7b0"
      },
      "outputs": [],
      "source": [
        "def hitung_cost_gradient(W,X,Y,regularization): \n",
        "  jarak = 1 - (Y* np.dot(X,W)) \n",
        "  dw = np.zeros(len(W)) \n",
        "  if max(0,jarak)==0:\n",
        "    di=W \n",
        "  else: \n",
        "    di = W - (regularization * Y*X) \n",
        "  dw += di \n",
        "  return dw"
      ]
    },
    {
      "cell_type": "markdown",
      "metadata": {
        "id": "sYGiwWxO9z1j"
      },
      "source": [
        "Terdapat beberapa cara untuk meminimalkan nilai *cost function*, salah satunya menggunakan Stochastic Gradient Descent (SGD) untuk melakukan minimasi. Minimasi *cost function* merupakan inti dari algoritma SVM. Fungsi di bawah ini merupakan implementasi algoritma SGD "
      ]
    },
    {
      "cell_type": "code",
      "execution_count": 14,
      "metadata": {
        "id": "ERaoSW0kBCVA"
      },
      "outputs": [],
      "source": [
        "from sklearn.utils import shuffle\n",
        "def sgd(data_latih,label_latih,learning_rate = 0.000001,max_epoch=1000,regularization=10000):\n",
        "  data_latih = data_latih.to_numpy()\n",
        "  label_latih = label_latih.to_numpy()\n",
        "  bobot = np.zeros(data_latih.shape[1])\n",
        "  for epoch in range(1,max_epoch):\n",
        "    X,Y =shuffle(data_latih,label_latih,random_state=101)\n",
        "    for index,x in enumerate(X):\n",
        "      delta=hitung_cost_gradient(bobot,x,Y[index],regularization)\n",
        "      bobot = bobot - (learning_rate * delta)\n",
        "  return bobot"
      ]
    },
    {
      "cell_type": "markdown",
      "metadata": {
        "id": "FaTWcv7dAu7t"
      },
      "source": [
        "Proses training dilakukan dengan memanggil fungsi **sgd** dengan parameter input berupa data latih dan label latih. Parameter learning rate dan max epoch menggunakan nilai *default* nya"
      ]
    },
    {
      "cell_type": "code",
      "execution_count": 15,
      "metadata": {
        "colab": {
          "base_uri": "https://localhost:8080/"
        },
        "id": "okhxKfw9C31G",
        "outputId": "8861b593-c6c5-4d2e-c622-93d442e974c5"
      },
      "outputs": [
        {
          "name": "stdout",
          "output_type": "stream",
          "text": [
            "[-0.16981044 -0.64004739  0.99833052  0.4731381 ]\n"
          ]
        }
      ],
      "source": [
        "W = sgd(data_latih,label_latih) \n",
        "print(W)"
      ]
    },
    {
      "cell_type": "markdown",
      "metadata": {
        "id": "M6UR7tpm1YQ_"
      },
      "source": [
        "## 4) Proses *testing*\n",
        "Proses testing dilakukan dengan menghitung nilai [*dot product*](https://en.wikipedia.org/wiki/Dot_product) antara bobot hasil training dengan data uji. Kelas data ditentukan berdasarkan tanda (positif atau negatif) dari hasil dot product tersebut. Fungsi berikut mengimplementasikan proses testing"
      ]
    },
    {
      "cell_type": "code",
      "execution_count": 16,
      "metadata": {
        "id": "GFrDgAtU7umG"
      },
      "outputs": [],
      "source": [
        "def testing(W,data_uji):\n",
        "  prediksi = np.array([])\n",
        "  for i in range(data_uji.shape[0]):\n",
        "    y_prediksi = np.sign(np.dot(W,data_uji.to_numpy()[i]))\n",
        "    prediksi = np.append(prediksi,y_prediksi)\n",
        "  return prediksi"
      ]
    },
    {
      "cell_type": "markdown",
      "metadata": {
        "id": "v4gkpgl02hHN"
      },
      "source": [
        "Lakukan pengujian menggunakan seluruh data uji. Bandingkan hasilnya dengan nilai label sebenarnya untuk menghitung berapa banyak data uji yang berhasil diprediksi dengan benar."
      ]
    },
    {
      "cell_type": "code",
      "execution_count": 17,
      "metadata": {
        "colab": {
          "base_uri": "https://localhost:8080/"
        },
        "id": "MQaav7-4BOw0",
        "outputId": "6390ede7-ba61-4236-f839-2629d810b277"
      },
      "outputs": [
        {
          "name": "stdout",
          "output_type": "stream",
          "text": [
            "Prediksi :  20\n",
            "Jumlah Label 20\n"
          ]
        }
      ],
      "source": [
        "y_prediksi = testing(W,data_uji) \n",
        "prediction = (sum(y_prediksi==label_uji))\n",
        "\n",
        "print(\"Prediksi : \", prediction)\n",
        "print(\"Jumlah Label\", label_uji.shape[0])"
      ]
    },
    {
      "cell_type": "markdown",
      "metadata": {
        "id": "ZiDmUxVBuo42"
      },
      "source": [
        "## TUGAS\n",
        "Pada tugas kali ini Anda masih melakukan klasifikasi dataset iris, tetapi menggunakan kelas Iris-versicolor dan Iris-virginica. Apakah hasilnya lebih baik jika dibandingkan dengan Iris-setosa dan Iris-versicolor?"
      ]
    },
    {
      "cell_type": "code",
      "execution_count": 18,
      "metadata": {
        "id": "_x7hK5pm21TD"
      },
      "outputs": [],
      "source": [
        "#Melakukan read lagi pada dataset agar datasetnya jadi terpisah dari yang praktikum\n",
        "#dan yang Tugas\n",
        "data_tugas = pd.read_csv('iris.csv')"
      ]
    },
    {
      "cell_type": "code",
      "execution_count": 19,
      "metadata": {
        "colab": {
          "base_uri": "https://localhost:8080/",
          "height": 391
        },
        "id": "sJIdSlEO-7u3",
        "outputId": "d3a5ec7c-eaeb-45fe-92c7-f5143bc5e07b"
      },
      "outputs": [
        {
          "data": {
            "text/html": [
              "<div>\n",
              "<style scoped>\n",
              "    .dataframe tbody tr th:only-of-type {\n",
              "        vertical-align: middle;\n",
              "    }\n",
              "\n",
              "    .dataframe tbody tr th {\n",
              "        vertical-align: top;\n",
              "    }\n",
              "\n",
              "    .dataframe thead th {\n",
              "        text-align: right;\n",
              "    }\n",
              "</style>\n",
              "<table border=\"1\" class=\"dataframe\">\n",
              "  <thead>\n",
              "    <tr style=\"text-align: right;\">\n",
              "      <th></th>\n",
              "      <th>sepal_length</th>\n",
              "      <th>sepal_width</th>\n",
              "      <th>petal_length</th>\n",
              "      <th>petal_width</th>\n",
              "      <th>species</th>\n",
              "    </tr>\n",
              "  </thead>\n",
              "  <tbody>\n",
              "    <tr>\n",
              "      <th>0</th>\n",
              "      <td>5.1</td>\n",
              "      <td>3.5</td>\n",
              "      <td>1.4</td>\n",
              "      <td>0.2</td>\n",
              "      <td>Iris-setosa</td>\n",
              "    </tr>\n",
              "    <tr>\n",
              "      <th>1</th>\n",
              "      <td>4.9</td>\n",
              "      <td>3.0</td>\n",
              "      <td>1.4</td>\n",
              "      <td>0.2</td>\n",
              "      <td>Iris-setosa</td>\n",
              "    </tr>\n",
              "    <tr>\n",
              "      <th>2</th>\n",
              "      <td>4.7</td>\n",
              "      <td>3.2</td>\n",
              "      <td>1.3</td>\n",
              "      <td>0.2</td>\n",
              "      <td>Iris-setosa</td>\n",
              "    </tr>\n",
              "    <tr>\n",
              "      <th>3</th>\n",
              "      <td>4.6</td>\n",
              "      <td>3.1</td>\n",
              "      <td>1.5</td>\n",
              "      <td>0.2</td>\n",
              "      <td>Iris-setosa</td>\n",
              "    </tr>\n",
              "    <tr>\n",
              "      <th>4</th>\n",
              "      <td>5.0</td>\n",
              "      <td>3.6</td>\n",
              "      <td>1.4</td>\n",
              "      <td>0.2</td>\n",
              "      <td>Iris-setosa</td>\n",
              "    </tr>\n",
              "    <tr>\n",
              "      <th>...</th>\n",
              "      <td>...</td>\n",
              "      <td>...</td>\n",
              "      <td>...</td>\n",
              "      <td>...</td>\n",
              "      <td>...</td>\n",
              "    </tr>\n",
              "    <tr>\n",
              "      <th>145</th>\n",
              "      <td>6.7</td>\n",
              "      <td>3.0</td>\n",
              "      <td>5.2</td>\n",
              "      <td>2.3</td>\n",
              "      <td>Iris-virginica</td>\n",
              "    </tr>\n",
              "    <tr>\n",
              "      <th>146</th>\n",
              "      <td>6.3</td>\n",
              "      <td>2.5</td>\n",
              "      <td>5.0</td>\n",
              "      <td>1.9</td>\n",
              "      <td>Iris-virginica</td>\n",
              "    </tr>\n",
              "    <tr>\n",
              "      <th>147</th>\n",
              "      <td>6.5</td>\n",
              "      <td>3.0</td>\n",
              "      <td>5.2</td>\n",
              "      <td>2.0</td>\n",
              "      <td>Iris-virginica</td>\n",
              "    </tr>\n",
              "    <tr>\n",
              "      <th>148</th>\n",
              "      <td>6.2</td>\n",
              "      <td>3.4</td>\n",
              "      <td>5.4</td>\n",
              "      <td>2.3</td>\n",
              "      <td>Iris-virginica</td>\n",
              "    </tr>\n",
              "    <tr>\n",
              "      <th>149</th>\n",
              "      <td>5.9</td>\n",
              "      <td>3.0</td>\n",
              "      <td>5.1</td>\n",
              "      <td>1.8</td>\n",
              "      <td>Iris-virginica</td>\n",
              "    </tr>\n",
              "  </tbody>\n",
              "</table>\n",
              "<p>150 rows × 5 columns</p>\n",
              "</div>"
            ],
            "text/plain": [
              "     sepal_length  sepal_width  petal_length  petal_width         species\n",
              "0             5.1          3.5           1.4          0.2     Iris-setosa\n",
              "1             4.9          3.0           1.4          0.2     Iris-setosa\n",
              "2             4.7          3.2           1.3          0.2     Iris-setosa\n",
              "3             4.6          3.1           1.5          0.2     Iris-setosa\n",
              "4             5.0          3.6           1.4          0.2     Iris-setosa\n",
              "..            ...          ...           ...          ...             ...\n",
              "145           6.7          3.0           5.2          2.3  Iris-virginica\n",
              "146           6.3          2.5           5.0          1.9  Iris-virginica\n",
              "147           6.5          3.0           5.2          2.0  Iris-virginica\n",
              "148           6.2          3.4           5.4          2.3  Iris-virginica\n",
              "149           5.9          3.0           5.1          1.8  Iris-virginica\n",
              "\n",
              "[150 rows x 5 columns]"
            ]
          },
          "execution_count": 19,
          "metadata": {
            "tags": []
          },
          "output_type": "execute_result"
        }
      ],
      "source": [
        "data_tugas"
      ]
    },
    {
      "cell_type": "code",
      "execution_count": 20,
      "metadata": {
        "id": "taf0UIWICpVB"
      },
      "outputs": [],
      "source": [
        "#Iris-setosa di drop\n",
        "data_tugas.drop(data_tugas[data_tugas['species']=='Iris-setosa'].index,inplace=True)"
      ]
    },
    {
      "cell_type": "code",
      "execution_count": 21,
      "metadata": {
        "colab": {
          "base_uri": "https://localhost:8080/",
          "height": 391
        },
        "id": "nX5-ecAgAN4d",
        "outputId": "fb02fd5b-5970-4e83-d91e-c1b578075845"
      },
      "outputs": [
        {
          "data": {
            "text/html": [
              "<div>\n",
              "<style scoped>\n",
              "    .dataframe tbody tr th:only-of-type {\n",
              "        vertical-align: middle;\n",
              "    }\n",
              "\n",
              "    .dataframe tbody tr th {\n",
              "        vertical-align: top;\n",
              "    }\n",
              "\n",
              "    .dataframe thead th {\n",
              "        text-align: right;\n",
              "    }\n",
              "</style>\n",
              "<table border=\"1\" class=\"dataframe\">\n",
              "  <thead>\n",
              "    <tr style=\"text-align: right;\">\n",
              "      <th></th>\n",
              "      <th>sepal_length</th>\n",
              "      <th>sepal_width</th>\n",
              "      <th>petal_length</th>\n",
              "      <th>petal_width</th>\n",
              "      <th>species</th>\n",
              "    </tr>\n",
              "  </thead>\n",
              "  <tbody>\n",
              "    <tr>\n",
              "      <th>50</th>\n",
              "      <td>7.0</td>\n",
              "      <td>3.2</td>\n",
              "      <td>4.7</td>\n",
              "      <td>1.4</td>\n",
              "      <td>Iris-versicolor</td>\n",
              "    </tr>\n",
              "    <tr>\n",
              "      <th>51</th>\n",
              "      <td>6.4</td>\n",
              "      <td>3.2</td>\n",
              "      <td>4.5</td>\n",
              "      <td>1.5</td>\n",
              "      <td>Iris-versicolor</td>\n",
              "    </tr>\n",
              "    <tr>\n",
              "      <th>52</th>\n",
              "      <td>6.9</td>\n",
              "      <td>3.1</td>\n",
              "      <td>4.9</td>\n",
              "      <td>1.5</td>\n",
              "      <td>Iris-versicolor</td>\n",
              "    </tr>\n",
              "    <tr>\n",
              "      <th>53</th>\n",
              "      <td>5.5</td>\n",
              "      <td>2.3</td>\n",
              "      <td>4.0</td>\n",
              "      <td>1.3</td>\n",
              "      <td>Iris-versicolor</td>\n",
              "    </tr>\n",
              "    <tr>\n",
              "      <th>54</th>\n",
              "      <td>6.5</td>\n",
              "      <td>2.8</td>\n",
              "      <td>4.6</td>\n",
              "      <td>1.5</td>\n",
              "      <td>Iris-versicolor</td>\n",
              "    </tr>\n",
              "    <tr>\n",
              "      <th>...</th>\n",
              "      <td>...</td>\n",
              "      <td>...</td>\n",
              "      <td>...</td>\n",
              "      <td>...</td>\n",
              "      <td>...</td>\n",
              "    </tr>\n",
              "    <tr>\n",
              "      <th>145</th>\n",
              "      <td>6.7</td>\n",
              "      <td>3.0</td>\n",
              "      <td>5.2</td>\n",
              "      <td>2.3</td>\n",
              "      <td>Iris-virginica</td>\n",
              "    </tr>\n",
              "    <tr>\n",
              "      <th>146</th>\n",
              "      <td>6.3</td>\n",
              "      <td>2.5</td>\n",
              "      <td>5.0</td>\n",
              "      <td>1.9</td>\n",
              "      <td>Iris-virginica</td>\n",
              "    </tr>\n",
              "    <tr>\n",
              "      <th>147</th>\n",
              "      <td>6.5</td>\n",
              "      <td>3.0</td>\n",
              "      <td>5.2</td>\n",
              "      <td>2.0</td>\n",
              "      <td>Iris-virginica</td>\n",
              "    </tr>\n",
              "    <tr>\n",
              "      <th>148</th>\n",
              "      <td>6.2</td>\n",
              "      <td>3.4</td>\n",
              "      <td>5.4</td>\n",
              "      <td>2.3</td>\n",
              "      <td>Iris-virginica</td>\n",
              "    </tr>\n",
              "    <tr>\n",
              "      <th>149</th>\n",
              "      <td>5.9</td>\n",
              "      <td>3.0</td>\n",
              "      <td>5.1</td>\n",
              "      <td>1.8</td>\n",
              "      <td>Iris-virginica</td>\n",
              "    </tr>\n",
              "  </tbody>\n",
              "</table>\n",
              "<p>100 rows × 5 columns</p>\n",
              "</div>"
            ],
            "text/plain": [
              "     sepal_length  sepal_width  petal_length  petal_width          species\n",
              "50            7.0          3.2           4.7          1.4  Iris-versicolor\n",
              "51            6.4          3.2           4.5          1.5  Iris-versicolor\n",
              "52            6.9          3.1           4.9          1.5  Iris-versicolor\n",
              "53            5.5          2.3           4.0          1.3  Iris-versicolor\n",
              "54            6.5          2.8           4.6          1.5  Iris-versicolor\n",
              "..            ...          ...           ...          ...              ...\n",
              "145           6.7          3.0           5.2          2.3   Iris-virginica\n",
              "146           6.3          2.5           5.0          1.9   Iris-virginica\n",
              "147           6.5          3.0           5.2          2.0   Iris-virginica\n",
              "148           6.2          3.4           5.4          2.3   Iris-virginica\n",
              "149           5.9          3.0           5.1          1.8   Iris-virginica\n",
              "\n",
              "[100 rows x 5 columns]"
            ]
          },
          "execution_count": 21,
          "metadata": {
            "tags": []
          },
          "output_type": "execute_result"
        }
      ],
      "source": [
        "data_tugas"
      ]
    },
    {
      "cell_type": "code",
      "execution_count": 22,
      "metadata": {
        "id": "yVQ5YesFGLH5"
      },
      "outputs": [],
      "source": [
        "data_tugas['species']=data_tugas['species'].map({'Iris-virginica':-1,'Iris-versicolor':1})"
      ]
    },
    {
      "cell_type": "code",
      "execution_count": 23,
      "metadata": {
        "id": "sq4vwS5D4W1p"
      },
      "outputs": [],
      "source": [
        "from sklearn.model_selection import train_test_split \n",
        "data_latih_tugas,data_uji_tugas = train_test_split(data_tugas,test_size=0.2)"
      ]
    },
    {
      "cell_type": "code",
      "execution_count": 24,
      "metadata": {
        "id": "cfFqsmYR4mYe"
      },
      "outputs": [],
      "source": [
        "label_latih_tugas = data_latih_tugas.pop('species') \n",
        "label_uji_tugas = data_uji_tugas.pop('species')"
      ]
    },
    {
      "cell_type": "code",
      "execution_count": 25,
      "metadata": {
        "colab": {
          "base_uri": "https://localhost:8080/"
        },
        "id": "WiGAv_xO47_y",
        "outputId": "47dcd29c-13c6-4fe6-ceba-27b6d8c21718"
      },
      "outputs": [
        {
          "name": "stdout",
          "output_type": "stream",
          "text": [
            "[ 3.87923973  2.32205058 -4.32766978 -5.76500381]\n"
          ]
        }
      ],
      "source": [
        "W_tugas = sgd(data_latih_tugas,label_latih_tugas) \n",
        "print(W_tugas)"
      ]
    },
    {
      "cell_type": "code",
      "execution_count": 26,
      "metadata": {
        "colab": {
          "base_uri": "https://localhost:8080/"
        },
        "id": "-5IU2YjYGUis",
        "outputId": "82a99da4-79a5-421f-efd3-77d8d5b4e8e8"
      },
      "outputs": [
        {
          "name": "stdout",
          "output_type": "stream",
          "text": [
            "Prediksi :  18\n",
            "Jumlah Label 20\n"
          ]
        }
      ],
      "source": [
        "y_prediksi_tugas = testing(W_tugas,data_uji_tugas) \n",
        "prediction_tugas = (sum(y_prediksi_tugas==label_uji_tugas))\n",
        "\n",
        "print(\"Prediksi : \", prediction_tugas)\n",
        "print(\"Jumlah Label\", label_uji_tugas.shape[0])"
      ]
    },
    {
      "cell_type": "markdown",
      "metadata": {
        "id": "E6CWQd6QHIJ9"
      },
      "source": [
        "\n",
        "\n",
        "> Pada bagian ini, masih menggunakan max_epoch sebesar 1000. Maka dapat dilihat disini jumlah prediksi yang saya dapatkan adalah 18. Hasilnya tidak lebih baik karena hanya mampu mengenali **18** diantara 20 data uji. Namun setelah mencoba melakukan re-run berkali - kali dengan factory reset biasanya mendapatkan jumlah Prediksi 18 atau 19, tapi tidak pernah 20 atau 17.\n",
        "\n"
      ]
    },
    {
      "cell_type": "markdown",
      "metadata": {
        "id": "eKdt1e9uIcnC"
      },
      "source": [
        "Lakukan proses training ulang, tetapi menggunakan nilai max_epoch sebesar 5000. Anda dapat memberikan parameter max_epoch=5000 saat memanggil fungsi **sgd**. Apakah hasilnya lebih baik? Mengapa?"
      ]
    },
    {
      "cell_type": "code",
      "execution_count": 27,
      "metadata": {
        "colab": {
          "base_uri": "https://localhost:8080/"
        },
        "id": "9NW7Meq02ppN",
        "outputId": "7ea44208-8a71-4a12-98fd-ed03e9410bf3"
      },
      "outputs": [
        {
          "name": "stdout",
          "output_type": "stream",
          "text": [
            "[ 4.96019074  3.06927907 -5.98451976 -6.63477334]\n"
          ]
        }
      ],
      "source": [
        "W_tugas_difEpoch = sgd(data_latih_tugas,label_latih_tugas,max_epoch=5000)\n",
        "print(W_tugas_difEpoch)"
      ]
    },
    {
      "cell_type": "code",
      "execution_count": 28,
      "metadata": {
        "colab": {
          "base_uri": "https://localhost:8080/"
        },
        "id": "4eSr5GFX9H2g",
        "outputId": "c6a3fb81-ef86-416e-a104-3a92580bc3ce"
      },
      "outputs": [
        {
          "name": "stdout",
          "output_type": "stream",
          "text": [
            "Prediksi :  19\n",
            "Jumlah Label 20\n"
          ]
        }
      ],
      "source": [
        "y_prediksi_tugas = testing(W_tugas_difEpoch,data_uji_tugas) \n",
        "prediction_tugas = (sum(y_prediksi_tugas==label_uji_tugas))\n",
        "\n",
        "print(\"Prediksi : \", prediction_tugas)\n",
        "print(\"Jumlah Label\", label_uji_tugas.shape[0])"
      ]
    },
    {
      "cell_type": "markdown",
      "metadata": {
        "id": "HgmTuCSaJ7qy"
      },
      "source": [
        "\n",
        "\n",
        "> Pada bagian ini, sekarang menggunakan max_epoch sebesar 5000. Maka dapat dilihat disini jumlah prediksi yang saya dapatkan adalah 19. Hasilnya lebih baik dari sebelumya karena mampu mengenali **19** diantara 20 data uji. Namun setelah mencoba melakukan re-run berkali - kali dengan factory reset biasanya mendapatkan jumlah Prediksi 18 atau 19 juga, tapi tidak pernah 20 atau 17.\n",
        "\n",
        "\n",
        "\n",
        "> Jadi terkadang menggunakan max_epoch yang lebih besar dapat menghasilkan hasil yang lebih baik dan kadang tidak.\n",
        "\n",
        "\n",
        "\n",
        "\n",
        "> Max_Epoch merupakan batas jumlah perulangan jadi jika angkanya semakin besar maka data tersebut akan makin banyak berlatihnya. Namun pada kasus ini mungkin karena datasetnya tidak terlalu banyak maka perbedaan max_epoch disini tidak terlalu berpengaruh walaupun dapat dikatakan mendapatkan hasil yang lebih baik juga.\n",
        "\n",
        "\n",
        "\n",
        "\n"
      ]
    },
    {
      "cell_type": "markdown",
      "metadata": {
        "id": "bSh7w88iL5Bs"
      },
      "source": [
        "Terakhir, lakukanlah seleksi fitur sederahana dengan mengambil hanya fitur sepal length dan sepal width saja. Apakah hasilnya lebih baik?"
      ]
    },
    {
      "cell_type": "code",
      "execution_count": 29,
      "metadata": {
        "id": "v6od3Vh9KTnJ"
      },
      "outputs": [],
      "source": [
        "#Pada bagian ini mengambil fitur sepal_length dan sepal_width saja dan menset variablenya\n",
        "data_latih_fitur = data_latih_tugas[['sepal_length','sepal_width']]\n",
        "data_uji_fitur = data_uji_tugas[['sepal_length','sepal_width']]"
      ]
    },
    {
      "cell_type": "code",
      "execution_count": 37,
      "metadata": {
        "colab": {
          "base_uri": "https://localhost:8080/",
          "height": 191
        },
        "id": "HjJ3uUsOE-Q5",
        "outputId": "25f0709e-d94d-47a7-e7ec-b6039bad99ea"
      },
      "outputs": [
        {
          "data": {
            "text/html": [
              "<div>\n",
              "<style scoped>\n",
              "    .dataframe tbody tr th:only-of-type {\n",
              "        vertical-align: middle;\n",
              "    }\n",
              "\n",
              "    .dataframe tbody tr th {\n",
              "        vertical-align: top;\n",
              "    }\n",
              "\n",
              "    .dataframe thead th {\n",
              "        text-align: right;\n",
              "    }\n",
              "</style>\n",
              "<table border=\"1\" class=\"dataframe\">\n",
              "  <thead>\n",
              "    <tr style=\"text-align: right;\">\n",
              "      <th></th>\n",
              "      <th>sepal_length</th>\n",
              "      <th>sepal_width</th>\n",
              "    </tr>\n",
              "  </thead>\n",
              "  <tbody>\n",
              "    <tr>\n",
              "      <th>58</th>\n",
              "      <td>6.6</td>\n",
              "      <td>2.9</td>\n",
              "    </tr>\n",
              "    <tr>\n",
              "      <th>50</th>\n",
              "      <td>7.0</td>\n",
              "      <td>3.2</td>\n",
              "    </tr>\n",
              "    <tr>\n",
              "      <th>54</th>\n",
              "      <td>6.5</td>\n",
              "      <td>2.8</td>\n",
              "    </tr>\n",
              "    <tr>\n",
              "      <th>117</th>\n",
              "      <td>7.7</td>\n",
              "      <td>3.8</td>\n",
              "    </tr>\n",
              "    <tr>\n",
              "      <th>60</th>\n",
              "      <td>5.0</td>\n",
              "      <td>2.0</td>\n",
              "    </tr>\n",
              "  </tbody>\n",
              "</table>\n",
              "</div>"
            ],
            "text/plain": [
              "     sepal_length  sepal_width\n",
              "58            6.6          2.9\n",
              "50            7.0          3.2\n",
              "54            6.5          2.8\n",
              "117           7.7          3.8\n",
              "60            5.0          2.0"
            ]
          },
          "execution_count": 37,
          "metadata": {
            "tags": []
          },
          "output_type": "execute_result"
        }
      ],
      "source": [
        "data_latih_fitur.head()"
      ]
    },
    {
      "cell_type": "code",
      "execution_count": 38,
      "metadata": {
        "colab": {
          "base_uri": "https://localhost:8080/",
          "height": 191
        },
        "id": "XkLB2fKvE_Zs",
        "outputId": "d9ff4ecf-c6ee-4152-a99d-63d959a22466"
      },
      "outputs": [
        {
          "data": {
            "text/html": [
              "<div>\n",
              "<style scoped>\n",
              "    .dataframe tbody tr th:only-of-type {\n",
              "        vertical-align: middle;\n",
              "    }\n",
              "\n",
              "    .dataframe tbody tr th {\n",
              "        vertical-align: top;\n",
              "    }\n",
              "\n",
              "    .dataframe thead th {\n",
              "        text-align: right;\n",
              "    }\n",
              "</style>\n",
              "<table border=\"1\" class=\"dataframe\">\n",
              "  <thead>\n",
              "    <tr style=\"text-align: right;\">\n",
              "      <th></th>\n",
              "      <th>sepal_length</th>\n",
              "      <th>sepal_width</th>\n",
              "    </tr>\n",
              "  </thead>\n",
              "  <tbody>\n",
              "    <tr>\n",
              "      <th>129</th>\n",
              "      <td>7.2</td>\n",
              "      <td>3.0</td>\n",
              "    </tr>\n",
              "    <tr>\n",
              "      <th>85</th>\n",
              "      <td>6.0</td>\n",
              "      <td>3.4</td>\n",
              "    </tr>\n",
              "    <tr>\n",
              "      <th>96</th>\n",
              "      <td>5.7</td>\n",
              "      <td>2.9</td>\n",
              "    </tr>\n",
              "    <tr>\n",
              "      <th>141</th>\n",
              "      <td>6.9</td>\n",
              "      <td>3.1</td>\n",
              "    </tr>\n",
              "    <tr>\n",
              "      <th>77</th>\n",
              "      <td>6.7</td>\n",
              "      <td>3.0</td>\n",
              "    </tr>\n",
              "  </tbody>\n",
              "</table>\n",
              "</div>"
            ],
            "text/plain": [
              "     sepal_length  sepal_width\n",
              "129           7.2          3.0\n",
              "85            6.0          3.4\n",
              "96            5.7          2.9\n",
              "141           6.9          3.1\n",
              "77            6.7          3.0"
            ]
          },
          "execution_count": 38,
          "metadata": {
            "tags": []
          },
          "output_type": "execute_result"
        }
      ],
      "source": [
        "data_uji_fitur.head()"
      ]
    },
    {
      "cell_type": "code",
      "execution_count": 40,
      "metadata": {
        "colab": {
          "base_uri": "https://localhost:8080/"
        },
        "id": "I1zsrmv_Fdit",
        "outputId": "63c56421-7166-4062-f244-e2f8a3cd6c0e"
      },
      "outputs": [
        {
          "name": "stdout",
          "output_type": "stream",
          "text": [
            "80\n",
            "20\n"
          ]
        }
      ],
      "source": [
        "print(data_latih_fitur.shape[0])\n",
        "print(data_uji_fitur.shape[0])"
      ]
    },
    {
      "cell_type": "code",
      "execution_count": 42,
      "metadata": {
        "colab": {
          "base_uri": "https://localhost:8080/"
        },
        "id": "uN9JsDylK44H",
        "outputId": "5c6db61a-60a1-416c-df3d-c86d1246999c"
      },
      "outputs": [
        {
          "name": "stdout",
          "output_type": "stream",
          "text": [
            "[-0.53298683  0.99928421]\n"
          ]
        }
      ],
      "source": [
        "W_fitur = sgd(data_latih_fitur,label_latih_tugas) \n",
        "print(W_fitur)"
      ]
    },
    {
      "cell_type": "code",
      "execution_count": 43,
      "metadata": {
        "colab": {
          "base_uri": "https://localhost:8080/"
        },
        "id": "v8WffEU6GTUf",
        "outputId": "7561d393-ac1d-4f2e-876d-9bb362202404"
      },
      "outputs": [
        {
          "name": "stdout",
          "output_type": "stream",
          "text": [
            "Prediksi :  11\n",
            "Jumlah Label 20\n"
          ]
        }
      ],
      "source": [
        "y_prediksi_fitur = testing(W_fitur,data_uji_fitur) \n",
        "prediction_fitur = (sum(y_prediksi_fitur==label_uji_tugas))\n",
        "\n",
        "print(\"Prediksi : \", prediction_fitur)\n",
        "print(\"Jumlah Label\", label_uji_tugas.shape[0])"
      ]
    },
    {
      "cell_type": "markdown",
      "metadata": {
        "id": "zyW-edNqMaUk"
      },
      "source": [
        "\n",
        "\n",
        "> Pada bagian ini, masih menggunakan max_epoch sebesar 1000. Maka dapat dilihat disini jumlah prediksi yang saya dapatkan adalah 11. Namun setelah mencoba melakukan re-run berkali - kali dengan factory reset biasanya mendapatkan jumlah Prediksi mulai dari 6 - 11, tapi tidak pernah di atas itu. Dapat disimpulkan bahwa menggunakan fitur ini kurang baik\n",
        "\n"
      ]
    },
    {
      "cell_type": "code",
      "execution_count": 44,
      "metadata": {
        "colab": {
          "base_uri": "https://localhost:8080/"
        },
        "id": "31gYaplWGlbR",
        "outputId": "57835d33-9a18-40ff-a15a-73b5a4765212"
      },
      "outputs": [
        {
          "name": "stdout",
          "output_type": "stream",
          "text": [
            "[-0.53560278  1.00467031]\n"
          ]
        }
      ],
      "source": [
        "W_fitur_difEpoch = sgd(data_latih_fitur,label_latih_tugas,max_epoch=5000) \n",
        "print(W_fitur_difEpoch)"
      ]
    },
    {
      "cell_type": "code",
      "execution_count": 45,
      "metadata": {
        "colab": {
          "base_uri": "https://localhost:8080/"
        },
        "id": "TEAhPGLMGs1x",
        "outputId": "c535bb25-1888-4fd6-841e-3a2f82051366"
      },
      "outputs": [
        {
          "name": "stdout",
          "output_type": "stream",
          "text": [
            "Prediksi :  11\n",
            "Jumlah Label 20\n"
          ]
        }
      ],
      "source": [
        "y_prediksi_fitur = testing(W_fitur_difEpoch,data_uji_fitur) \n",
        "prediction_fitur = (sum(y_prediksi_fitur==label_uji_tugas))\n",
        "\n",
        "print(\"Prediksi : \", prediction_fitur)\n",
        "print(\"Jumlah Label\", label_uji_tugas.shape[0])"
      ]
    },
    {
      "cell_type": "markdown",
      "metadata": {
        "id": "WS2PUUkONUEl"
      },
      "source": [
        "> Pada bagian ini, menggunakan max_epoch sebesar 5000. Maka dapat dilihat disini jumlah prediksi yang saya dapatkan adalah 11 juga. Namun setelah mencoba melakukan re-run berkali - kali dengan factory reset biasanya mendapatkan jumlah Prediksi mulai dari 7 - 12, tapi tidak pernah di atas itu. Dapat disimpulkan bahwa menggunakan fitur ini kurang baik walaupun juga menggunakan max_epoch yang lebih besar"
      ]
    }
  ],
  "metadata": {
    "colab": {
      "collapsed_sections": [
        "sQAGcnK3MOS7",
        "lfi1uHIxPdDe",
        "Ikiam_bv8sM1",
        "M6UR7tpm1YQ_",
        "ZiDmUxVBuo42"
      ],
      "name": "Praktikum 6 - Hasyir Daffa Ibrahim - 195150207111039",
      "provenance": []
    },
    "kernelspec": {
      "display_name": "Python 3",
      "name": "python3"
    }
  },
  "nbformat": 4,
  "nbformat_minor": 0
}
